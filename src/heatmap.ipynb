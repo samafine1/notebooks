{
 "cells": [
  {
   "cell_type": "markdown",
   "metadata": {},
   "source": [
    "# Heatmap of Average Robustness Performance and Optimal Point Analysis"
   ]
  },
  {
   "cell_type": "markdown",
   "metadata": {},
   "source": [
    "## Imports"
   ]
  },
  {
   "cell_type": "code",
   "execution_count": null,
   "metadata": {},
   "outputs": [],
   "source": [
    "import Pkg; Pkg.activate(@__DIR__); Pkg.instantiate();\n",
    "using PiccoloQuantumObjects\n",
    "using QuantumCollocation\n",
    "using ForwardDiff\n",
    "using LinearAlgebra\n",
    "using Plots\n",
    "using SparseArrays\n",
    "using NamedTrajectories\n",
    "using Statistics\n",
    "using CairoMakie\n",
    "using Random\n",
    "using ColorSchemes\n",
    "using Makie\n",
    "using Printf"
   ]
  },
  {
   "cell_type": "code",
   "execution_count": null,
   "metadata": {},
   "outputs": [],
   "source": [
    "# Problem parameters\n",
    "T = 20\n",
    "Δt = 0.2\n",
    "U_goal = GATES.H\n",
    "H_drive = [PAULIS.X, PAULIS.Y, PAULIS.Z]\n",
    "piccolo_opts = PiccoloOptions(verbose=false)\n",
    "sys = QuantumSystem(H_drive)\n",
    "∂ₑHₐ = [PAULIS.X, PAULIS.Y, PAULIS.Z]\n",
    "varsys = VariationalQuantumSystem(\n",
    "    H_drive,\n",
    "    ∂ₑHₐ\n",
    ")\n"
   ]
  },
  {
   "cell_type": "markdown",
   "metadata": {},
   "source": [
    "## Robustness Metrics"
   ]
  },
  {
   "cell_type": "code",
   "execution_count": null,
   "metadata": {},
   "outputs": [],
   "source": [
    "function width_robustness(system::AbstractQuantumSystem, traj::NamedTrajectory; thresh::Float64=0.999)\n",
    "    F = 1.0\n",
    "    drift = system.H.H_drift\n",
    "    drive = system.H.H_drives\n",
    "    pauls = [PAULIS.X, PAULIS.Y, PAULIS.Z]\n",
    "    widths = []\n",
    "    for i in 1:3\n",
    "        ε = 0.0\n",
    "        err = pauls[i]\n",
    "        F = 1.0\n",
    "        while (ε < 0.5 && F >= thresh)\n",
    "            noisy_drift = drift + ε * err\n",
    "            noisy_sys = QuantumSystem(noisy_drift, drive)\n",
    "            F = unitary_rollout_fidelity(traj, noisy_sys)\n",
    "            ε += 0.0001\n",
    "        end\n",
    "        push!(widths, ε)\n",
    "    end\n",
    "    return widths\n",
    "end"
   ]
  },
  {
   "cell_type": "markdown",
   "metadata": {},
   "source": [
    "## Parameter Sweep and Optimization"
   ]
  },
  {
   "cell_type": "code",
   "execution_count": null,
   "metadata": {},
   "outputs": [],
   "source": [
    "dda_bounds = 10 .^ range(-1, 1, length=15)\n",
    "n_seeds = 5\n",
    "\n",
    "var_probs = Array{Any}(undef, n_seeds, length(dda_bounds))\n",
    "fidelities = zeros(n_seeds, length(dda_bounds))\n",
    "robustness_widths = zeros(n_seeds, length(dda_bounds))\n",
    "\n",
    "for (i, dda) in enumerate(dda_bounds)\n",
    "    println(\"Running for dda_bound = $dda\")\n",
    "    for seed in 1:n_seeds\n",
    "        Random.seed!(seed)\n",
    "        prob = UnitaryVariationalProblem(\n",
    "            varsys, U_goal, T, Δt;\n",
    "            piccolo_options=piccolo_opts,\n",
    "            robust_times=[[T],[T],[T]],\n",
    "            R_dda=dda\n",
    "        )\n",
    "        solve!(prob)\n",
    "        var_probs[seed, i] = prob\n",
    "        fidelities[seed, i] = unitary_fidelity(prob.trajectory, sys)\n",
    "        widths = width_robustness(sys, prob.trajectory)\n",
    "        robustness_widths[seed, i] = mean(widths)\n",
    "    end\n",
    "end"
   ]
  },
  {
   "cell_type": "markdown",
   "metadata": {},
   "source": [
    "## Heatmap of Average Robustness"
   ]
  },
  {
   "cell_type": "code",
   "execution_count": null,
   "metadata": {},
   "outputs": [],
   "source": [
    "avg_robustness = mean(robustness_widths, dims=1)\n",
    "\n",
    "fig = Figure(resolution=(800, 600))\n",
    "ax = Axis(fig[1, 1], xlabel=\"log10(dda_bound)\", ylabel=\"Average Robustness Width\")\n",
    "heatmap!(ax, log10.(dda_bounds), 1:1, reshape(avg_robustness, (length(dda_bounds), 1)))\n",
    "Colorbar(fig[1, 2], label = \"Average Robustness\")\n",
    "display(fig)"
   ]
  },
  {
   "cell_type": "markdown",
   "metadata": {},
   "source": [
    "## Find Optimal Point and Plot Control Values"
   ]
  },
  {
   "cell_type": "code",
   "execution_count": null,
   "metadata": {},
   "outputs": [],
   "source": [
    "min_dda_with_fidelity_and_robustness = Inf\n",
    "optimal_dda_index = -1\n",
    "optimal_seed_index = -1\n",
    "\n",
    "for i in 1:length(dda_bounds)\n",
    "    for seed in 1:n_seeds\n",
    "        if fidelities[seed, i] > 0.999 && robustness_widths[seed, i] > 0.0\n",
    "            if dda_bounds[i] < min_dda_with_fidelity_and_robustness\n",
    "                min_dda_with_fidelity_and_robustness = dda_bounds[i]\n",
    "                optimal_dda_index = i\n",
    "                optimal_seed_index = seed\n",
    "            end\n",
    "        end\n",
    "    end\n",
    "end\n",
    "\n",
    "if optimal_dda_index != -1\n",
    "    println(\"Optimal dda_bound found: \", min_dda_with_fidelity_and_robustness)\n",
    "    optimal_prob = var_probs[optimal_seed_index, optimal_dda_index]\n",
    "    \n",
    "    # Plotting control values for the optimal point\n",
    "    controls = optimal_prob.trajectory.a\n",
    "    time = 0:Δt:(T-1)*Δt\n",
    "    \n",
    "    p = plot(time, controls', xlabel=\"Time\", ylabel=\"Control Amplitude\", title=\"Optimal Control Pulses\")\n",
    "    display(p)\n",
    "else\n",
    "    println(\"No point found that satisfies the criteria.\")\n",
    "end"
   ]
  }
 ],
 "metadata": {
  "language_info": {
   "name": "python"
  }
 },
 "nbformat": 4,
 "nbformat_minor": 5
}
