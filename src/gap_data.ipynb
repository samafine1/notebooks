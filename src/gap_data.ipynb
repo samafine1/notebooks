{
 "cells": [
  {
   "cell_type": "markdown",
   "id": "6fd9dd76",
   "metadata": {},
   "source": [
    "## Imports"
   ]
  },
  {
   "cell_type": "code",
   "execution_count": 1,
   "id": "7364e2b3",
   "metadata": {},
   "outputs": [
    {
     "name": "stderr",
     "output_type": "stream",
     "text": [
      "\u001b[32m\u001b[1m  Activating\u001b[22m\u001b[39m project at `~/Documents/research/pulses/project/notebooks/src`\n",
      "┌ Warning: Circular dependency detected.\n",
      "│ Precompilation will be skipped for dependencies in this cycle:\n",
      "│ \u001b[90m ┌ \u001b[39mPiccolissimo\n",
      "│ \u001b[90m └─ \u001b[39mQuantumCollocation\n",
      "└ @ Base.Precompilation precompilation.jl:651\n",
      "┌ Warning: Circular dependency detected.\n",
      "│ Precompilation will be skipped for dependencies in this cycle:\n",
      "│  ┌ Piccolissimo\n",
      "│  └─ QuantumCollocation\n",
      "└ @ Base.Precompilation precompilation.jl:651\n",
      "\u001b[33m\u001b[1m┌ \u001b[22m\u001b[39m\u001b[33m\u001b[1mWarning: \u001b[22m\u001b[39mReplacing docs for `QuantumCollocation.ProblemTemplates.UnitaryUniversalProblem :: Union{}` in module `QuantumCollocation.ProblemTemplates`\n",
      "\u001b[33m\u001b[1m└ \u001b[22m\u001b[39m\u001b[90m@ Base.Docs docs/Docs.jl:243\u001b[39m\n",
      "WARNING: Method definition UnitaryUniversalProblem(PiccoloQuantumObjects.QuantumSystems.AbstractQuantumSystem, Union{AbstractArray{var\"#s74\", 2} where var\"#s74\"<:Number, PiccoloQuantumObjects.EmbeddedOperators.EmbeddedOperator{T} where T<:Number}, Int64, Union{Float64, AbstractArray{Float64, 1}}) in module ProblemTemplates at /Users/samafine1/Documents/research/pulses/project/QuantumCollocation.jl/src/problem_templates/unitary_universal_problem.jl:70 overwritten on the same line (check for duplicate calls to `include`).\n",
      "ERROR: Method overwriting is not permitted during Module precompilation. Use `__precompile__(false)` to opt-out of precompilation.\n",
      "┌ Warning: Replacing docs for `QuantumCollocation.ProblemTemplates.UnitaryUniversalProblem :: Union{}` in module `QuantumCollocation.ProblemTemplates`\n",
      "└ @ Base.Docs docs/Docs.jl:243\n"
     ]
    }
   ],
   "source": [
    "import Pkg; Pkg.activate(@__DIR__); Pkg.instantiate();\n",
    "# using Piccolo\n",
    "using PiccoloQuantumObjects\n",
    "using QuantumCollocation\n",
    "using ForwardDiff\n",
    "using LinearAlgebra\n",
    "# using Plots\n",
    "using SparseArrays\n",
    "using Statistics\n",
    "using CairoMakie\n",
    "using Random\n",
    "using NamedTrajectories"
   ]
  },
  {
   "cell_type": "code",
   "execution_count": 2,
   "id": "8c54c34d",
   "metadata": {},
   "outputs": [
    {
     "data": {
      "text/plain": [
       "0.005"
      ]
     },
     "metadata": {},
     "output_type": "display_data"
    }
   ],
   "source": [
    "# Problem parameters\n",
    "T = 40\n",
    "Δt = 0.8\n",
    "U_goal = GATES.H\n",
    "H_drive = [PAULIS.X, PAULIS.Y, PAULIS.Z]\n",
    "piccolo_opts = PiccoloOptions(verbose=false)\n",
    "pretty_print(X::AbstractMatrix) = Base.show(stdout, \"text/plain\", X);\n",
    "sys = QuantumSystem(H_drive)\n",
    "seeds = rand(1:1000, 25)\n",
    "F=0.9999\n",
    "num_iter = 6000\n",
    "hess = false\n",
    "hess_iter = 120\n",
    "Qs = 10 .^ range(-4.0, 1.0, length=25)\n",
    "a_bound = 1.0\n",
    "dda_bound = 0.5\n",
    "R=5e-3"
   ]
  },
  {
   "cell_type": "code",
   "execution_count": 3,
   "id": "e287ba3a",
   "metadata": {},
   "outputs": [
    {
     "name": "stdout",
     "output_type": "stream",
     "text": [
      "Loaded data for 25 seeds across 25 Q values\n"
     ]
    }
   ],
   "source": [
    "using JLD2, FileIO\n",
    "using CairoMakie\n",
    "using Statistics\n",
    "\n",
    "# Directories where data is saved\n",
    "var_dir = \"artifacts/var_gap_data_export\"\n",
    "tog_dir = \"artifacts/tog_gap_data_export\"\n",
    "\n",
    "# Load the first seed file to get metadata\n",
    "var_first = load(joinpath(var_dir, \"var_probs_seed_idx_1.jld2\"))\n",
    "tog_first = load(joinpath(tog_dir, \"htog_probs_seed_idx_1.jld2\"))\n",
    "\n",
    "# Extract common parameters\n",
    "Qs = var_first[\"Qs\"]\n",
    "n_seeds = length(readdir(var_dir)) - 1  # Subtract 1 for plot.png\n",
    "\n",
    "# Initialize arrays to store loaded data\n",
    "var_probs = Matrix{Any}(undef, n_seeds, length(Qs))\n",
    "htog_probs = Matrix{Any}(undef, n_seeds, length(Qs))\n",
    "\n",
    "# Load all var_probs data\n",
    "for i in 1:n_seeds\n",
    "    data = load(joinpath(var_dir, \"var_probs_seed_idx_$(i).jld2\"))\n",
    "    var_probs[i, :] = data[\"var_probs\"]\n",
    "end\n",
    "\n",
    "# Load all htog_probs data\n",
    "for i in 1:n_seeds\n",
    "    data = load(joinpath(tog_dir, \"htog_probs_seed_idx_$(i).jld2\"))\n",
    "    htog_probs[i, :] = data[\"htog_probs\"]\n",
    "end\n",
    "\n",
    "println(\"Loaded data for $(n_seeds) seeds across $(length(Qs)) Q values\")"
   ]
  },
  {
   "cell_type": "code",
   "execution_count": 4,
   "id": "a61fc110",
   "metadata": {},
   "outputs": [
    {
     "data": {
      "text/plain": [
       "25"
      ]
     },
     "metadata": {},
     "output_type": "display_data"
    }
   ],
   "source": [
    "# Adjoint, rollout initialization\n",
    "\n",
    "∂ₑHₐ = [PAULIS.Z]\n",
    "varsys_add = VariationalQuantumSystem(\n",
    "    H_drive,\n",
    "    ∂ₑHₐ\n",
    ")\n",
    "n_seeds = length(seeds)\n",
    "nQ = length(Qs)"
   ]
  },
  {
   "cell_type": "code",
   "execution_count": 4,
   "id": "74e57b31",
   "metadata": {},
   "outputs": [
    {
     "ename": "UndefVarError",
     "evalue": "UndefVarError: `var_prob` not defined in `Main`\nSuggestion: check for spelling errors or missing imports.",
     "output_type": "error",
     "traceback": [
      "UndefVarError: `var_prob` not defined in `Main`\n",
      "Suggestion: check for spelling errors or missing imports.\n",
      "\n",
      "Stacktrace:\n",
      " [1] top-level scope\n",
      "   @ ~/Documents/research/pulses/project/notebooks/src/jl_notebook_cell_df34fa98e69747e1a8f8a730347b8e2f_X13sZmlsZQ==.jl:1"
     ]
    }
   ],
   "source": [
    "var_prob[1].trajectory.Δt[1], var_prob[1].trajectory.Δt[end ÷ 2]"
   ]
  },
  {
   "cell_type": "code",
   "execution_count": 5,
   "id": "c0c27260",
   "metadata": {},
   "outputs": [
    {
     "data": {
      "text/plain": [
       "var_obj (generic function with 1 method)"
      ]
     },
     "metadata": {},
     "output_type": "display_data"
    }
   ],
   "source": [
    "∂ₑH = [PAULIS.Z]\n",
    "H_drives = [PAULIS.X, PAULIS.Y, PAULIS.Z]\n",
    "error_ops = [PAULIS.Z]\n",
    "\n",
    "function var_obj(\n",
    "    traj::NamedTrajectory, \n",
    "    H_drives::Vector{Matrix{ComplexF64}}, \n",
    "    H_errors::Vector{Matrix{ComplexF64}}\n",
    ")\n",
    "    Δt = traj.Δt[1]\n",
    "    varsys = VariationalQuantumSystem(H_drives, H_errors)\n",
    "    Ũ⃗, ∂Ũ⃗ = variational_unitary_rollout(traj, varsys)\n",
    "\n",
    "    U = iso_vec_to_operator(Ũ⃗[:, end])\n",
    "    # First error term\n",
    "    ∂U = iso_vec_to_operator(∂Ũ⃗[1][:, end])\n",
    "\n",
    "    d = size(U, 1)\n",
    "    return abs(tr((U'*∂U)'*(U'*∂U))) / (T * Δt)^2 / d\n",
    "end\n",
    "\n",
    "# J_var = var_obj(var_prob.trajectory, H_drives, error_ops)"
   ]
  },
  {
   "cell_type": "code",
   "execution_count": 6,
   "id": "60b709b7",
   "metadata": {},
   "outputs": [
    {
     "data": {
      "text/plain": [
       "tog_obj (generic function with 1 method)"
      ]
     },
     "metadata": {},
     "output_type": "display_data"
    }
   ],
   "source": [
    "function tog_obj(\n",
    "    traj::NamedTrajectory, \n",
    "    H_drives::Vector{Matrix{ComplexF64}},\n",
    "    H_error::Matrix{ComplexF64}\n",
    ")\n",
    "    T = traj.T\n",
    "    Δt = get_timesteps(traj)\n",
    "\n",
    "    sys = QuantumSystem(H_drives)\n",
    "    U = iso_vec_to_operator.(eachcol(unitary_rollout(traj, sys)))\n",
    "    \n",
    "    # Toggle integral\n",
    "    H_ti = sum(Δt[i] .* U[i]' * H_error * U[i] for i=1:T-1)\n",
    "\n",
    "    d₁ = size(U[1], 1)\n",
    "    Δt₁ = Δt[1]\n",
    "    metric = norm(tr(H_ti'H_ti)) / (T * Δt₁)^2 / d₁\n",
    "    return metric\n",
    "end\n"
   ]
  },
  {
   "cell_type": "code",
   "execution_count": 14,
   "id": "a870f701",
   "metadata": {},
   "outputs": [
    {
     "data": {
      "text/plain": [
       "8.546746224338484"
      ]
     },
     "metadata": {},
     "output_type": "display_data"
    }
   ],
   "source": [
    "J_tog / J_var"
   ]
  },
  {
   "cell_type": "code",
   "execution_count": 9,
   "id": "6ad2b1d4",
   "metadata": {},
   "outputs": [
    {
     "data": {
      "text/plain": [
       "commutator (generic function with 1 method)"
      ]
     },
     "metadata": {},
     "output_type": "display_data"
    }
   ],
   "source": [
    "function commutator(A::AbstractMatrix{<:Number}, B::AbstractMatrix{<:Number})\n",
    "    return A*B - B*A\n",
    "end"
   ]
  },
  {
   "cell_type": "code",
   "execution_count": 10,
   "id": "f0f3a990",
   "metadata": {},
   "outputs": [
    {
     "data": {
      "text/plain": [
       "pert_tog_obj (generic function with 1 method)"
      ]
     },
     "metadata": {},
     "output_type": "display_data"
    }
   ],
   "source": [
    "function pert_tog_obj(\n",
    "    traj::NamedTrajectory, \n",
    "    H_drives::Vector{Matrix{ComplexF64}},\n",
    "    H_error::Matrix{ComplexF64};\n",
    "    order::Int=1,\n",
    "    a_bound::Float64=a_bound\n",
    ")\n",
    "    T = traj.T\n",
    "    Δt = get_timesteps(traj)\n",
    "\n",
    "    sys = QuantumSystem(H_drives)\n",
    "    U = iso_vec_to_operator.(eachcol(unitary_rollout(traj, sys)))\n",
    "\n",
    "    # toggle integral\n",
    "    H_ti = zeros(ComplexF64, size(U[1]))\n",
    "\n",
    "    # note: U_1 = I, so U[:, k] = U_{k-1}.\n",
    "    # you need to go to T-1, only\n",
    "    for k in 1:T-1\n",
    "        Hₖ = sum(traj.a[l, k] / a_bound * H for (l, H) in enumerate(H_drives))\n",
    "        adjⁿH_E = H_error\n",
    "        Eₖ_n = H_error * Δt[k]\n",
    "        \n",
    "        # get the different orders of the Hadamard lemma\n",
    "        for n in 2:order\n",
    "            coef_n = ComplexF64(im^(n-1) * a_bound^(n-1) * Δt[k]^n / factorial(big(n)))\n",
    "            adjⁿH_E = commutator(Hₖ, adjⁿH_E)\n",
    "            # Eₖ_n = push!(Eₖ_n, coef_n * adjⁿH_E)\n",
    "            Eₖ_n += coef_n * adjⁿH_E\n",
    "        end\n",
    "\n",
    "        # nth order toggle integral up to k\n",
    "        H_ti += U[k]' * Eₖ_n * U[k]\n",
    "    end\n",
    "\n",
    "    d₁ = size(U[1], 1)\n",
    "    Δt₁ = Δt[1]\n",
    "    metric = norm(tr(H_ti'H_ti)) / (T * Δt₁)^2 / d₁\n",
    "    return metric\n",
    "end"
   ]
  },
  {
   "cell_type": "code",
   "execution_count": 17,
   "id": "3157a9ca",
   "metadata": {},
   "outputs": [
    {
     "data": {
      "text/plain": [
       "0.00033492546876706046"
      ]
     },
     "metadata": {},
     "output_type": "display_data"
    }
   ],
   "source": [
    "pert_tog_obj(var_prob.trajectory, H_drives, PAULIS.Z, order=1)"
   ]
  },
  {
   "cell_type": "code",
   "execution_count": 18,
   "id": "ae808cf9",
   "metadata": {},
   "outputs": [
    {
     "data": {
      "text/plain": [
       "3.9187303149719265e-5"
      ]
     },
     "metadata": {},
     "output_type": "display_data"
    }
   ],
   "source": [
    "pert_tog_obj(var_prob.trajectory, H_drives, PAULIS.Z, order=5)"
   ]
  },
  {
   "cell_type": "code",
   "execution_count": 11,
   "id": "f54b4b78",
   "metadata": {},
   "outputs": [],
   "source": [
    "\n",
    "# Process var_probs data (left plot)\n",
    "var_tog_objs = []\n",
    "var_tog_vars = []\n",
    "var_tog_pert1 = []\n",
    "\n",
    "var_tog_objs_sem = []\n",
    "var_tog_vars_sem = []\n",
    "var_tog_pert1_sem = []\n",
    "\n",
    "for (j, Q) in enumerate(Qs)\n",
    "    objs_at_Q = [tog_obj(var_probs[i,j].trajectory, H_drives, error_ops[1]) for i in 1:n_seeds]\n",
    "    vars_at_Q = [var_obj(var_probs[i,j].trajectory, H_drives, error_ops) for i in 1:n_seeds]\n",
    "    pert1_at_Q = [pert_tog_obj(var_probs[i,j].trajectory, H_drives, PAULIS.Z, order=2) for i in 1:n_seeds]\n",
    "    \n",
    "    push!(var_tog_objs, mean(objs_at_Q))\n",
    "    push!(var_tog_vars, mean(vars_at_Q))\n",
    "    push!(var_tog_pert1, mean(pert1_at_Q))\n",
    "    \n",
    "    push!(var_tog_objs_sem, std(objs_at_Q) / sqrt(n_seeds))\n",
    "    push!(var_tog_vars_sem, std(vars_at_Q) / sqrt(n_seeds))\n",
    "    push!(var_tog_pert1_sem, std(pert1_at_Q) / sqrt(n_seeds))\n",
    "end\n",
    "\n",
    "# Process htog_probs data (right plot)\n",
    "htog_tog_objs = []\n",
    "htog_tog_vars = []\n",
    "htog_tog_pert = []\n",
    "\n",
    "htog_tog_objs_sem = []\n",
    "htog_tog_vars_sem = []\n",
    "htog_tog_pert_sem = []\n",
    "\n",
    "for (j, Q) in enumerate(Qs)\n",
    "    objs_at_Q = [tog_obj(htog_probs[i,j].trajectory, H_drives, error_ops[1]) for i in 1:n_seeds]\n",
    "    vars_at_Q = [var_obj(htog_probs[i,j].trajectory, H_drives, error_ops) for i in 1:n_seeds]\n",
    "    pert_at_Q = [pert_tog_obj(htog_probs[i,j].trajectory, H_drives, PAULIS.Z, order=2) for i in 1:n_seeds]\n",
    "    \n",
    "    push!(htog_tog_objs, mean(objs_at_Q))\n",
    "    push!(htog_tog_vars, mean(vars_at_Q))\n",
    "    push!(htog_tog_pert, mean(pert_at_Q))\n",
    "    \n",
    "    push!(htog_tog_objs_sem, std(objs_at_Q) / sqrt(n_seeds))\n",
    "    push!(htog_tog_vars_sem, std(vars_at_Q) / sqrt(n_seeds))\n",
    "    push!(htog_tog_pert_sem, std(pert_at_Q) / sqrt(n_seeds))\n",
    "end"
   ]
  },
  {
   "cell_type": "code",
   "execution_count": 13,
   "id": "b3e74214",
   "metadata": {},
   "outputs": [],
   "source": [
    "\n",
    "# Create side-by-side plots\n",
    "fig = Figure(size=(1200, 500))\n",
    "\n",
    "# Left plot: Variational-Optimized\n",
    "ax1 = Axis(fig[1, 1], \n",
    "    title=\"Variational-Optimized Objective Separation\",\n",
    "    xlabel=\"Q (Weight on Variational Cost Function)\", \n",
    "    ylabel=\"Objective Value\", \n",
    "    xscale=log10, \n",
    "    yscale=log10)\n",
    "\n",
    "scatter!(ax1, Qs, var_tog_vars; label=\"Variational Objective\", markersize=8)\n",
    "scatter!(ax1, Qs, var_tog_objs; label=\"Toggle Objective\", markersize=8)\n",
    "scatter!(ax1, Qs, var_tog_pert1; label=\"Toggle Objective \\n (to first order in Δt)\", markersize=8)\n",
    "\n",
    "errorbars!(ax1, Qs, var_tog_vars, var_tog_vars_sem; whiskerwidth=10)\n",
    "errorbars!(ax1, Qs, var_tog_objs, var_tog_objs_sem; whiskerwidth=10)\n",
    "errorbars!(ax1, Qs, var_tog_pert1, var_tog_pert1_sem; whiskerwidth=10)\n",
    "\n",
    "# Right plot: Toggle-Optimized\n",
    "ax2 = Axis(fig[1, 2], \n",
    "    title=\"Toggle-Optimized Objective Separation\",\n",
    "    xlabel=\"Q (Weight on Toggle Cost Function)\", \n",
    "    ylabel=\"Objective Value\", \n",
    "    xscale=log10, \n",
    "    yscale=log10)\n",
    "\n",
    "scatter!(ax2, Qs, htog_tog_vars; label=\"Variational Objective\", markersize=8)\n",
    "scatter!(ax2, Qs, htog_tog_objs; label=\"Toggle Objective\", markersize=8)\n",
    "scatter!(ax2, Qs, htog_tog_pert; label=\"Toggle Objective \\n (to first order in Δt)\", markersize=8)\n",
    "\n",
    "errorbars!(ax2, Qs, htog_tog_vars, htog_tog_vars_sem; whiskerwidth=10)\n",
    "errorbars!(ax2, Qs, htog_tog_objs, htog_tog_objs_sem; whiskerwidth=10)\n",
    "errorbars!(ax2, Qs, htog_tog_pert, htog_tog_pert_sem; whiskerwidth=10)\n",
    "\n",
    "# Add a shared legend\n",
    "Legend(fig[1, 3], ax1)\n",
    "\n",
    "fig\n",
    "\n",
    "# Optionally save the combined figure\n",
    "save(\"artifacts/combined_comparison.png\", fig)"
   ]
  },
  {
   "cell_type": "code",
   "execution_count": null,
   "id": "f1f90416",
   "metadata": {},
   "outputs": [],
   "source": []
  }
 ],
 "metadata": {
  "kernelspec": {
   "display_name": "Julia 1.11.5",
   "language": "julia",
   "name": "julia-1.11"
  },
  "language_info": {
   "file_extension": ".jl",
   "mimetype": "application/julia",
   "name": "julia",
   "version": "1.11.5"
  }
 },
 "nbformat": 4,
 "nbformat_minor": 5
}
