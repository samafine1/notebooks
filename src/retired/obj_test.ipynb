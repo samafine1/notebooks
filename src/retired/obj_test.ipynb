{
 "cells": [
  {
   "cell_type": "markdown",
   "metadata": {},
   "source": [
    "# Objective Testing\n",
    "\n",
    "This notebook determines whether the robustness objective function using the toggling frame first order condition is correct. "
   ]
  },
  {
   "cell_type": "markdown",
   "metadata": {},
   "source": [
    "#### Imports"
   ]
  },
  {
   "cell_type": "code",
   "execution_count": 2,
   "metadata": {},
   "outputs": [
    {
     "name": "stderr",
     "output_type": "stream",
     "text": [
      "\u001b[32m\u001b[1m  Activating\u001b[22m\u001b[39m project at `~/Documents/research/pulses/project/notebooks/src`\n",
      "\u001b[32m\u001b[1m   Resolving\u001b[22m\u001b[39m package versions...\n",
      "\u001b[32m\u001b[1m  No Changes\u001b[22m\u001b[39m to `~/Documents/research/pulses/project/notebooks/src/Project.toml`\n",
      "\u001b[32m\u001b[1m  No Changes\u001b[22m\u001b[39m to `~/Documents/research/pulses/project/notebooks/src/Manifest.toml`\n"
     ]
    }
   ],
   "source": [
    "using Pkg\n",
    "Pkg.activate(\".\")\n",
    "Pkg.develop(path=\"../../QuantumCollocation.jl\")\n",
    "using Revise\n",
    "using QuantumCollocation\n",
    "using Piccolo\n",
    "using ForwardDiff\n",
    "using LinearAlgebra\n",
    "using Plots\n",
    "using SparseArrays\n",
    "using Statistics"
   ]
  },
  {
   "cell_type": "markdown",
   "metadata": {},
   "source": []
  },
  {
   "cell_type": "markdown",
   "metadata": {},
   "source": [
    "## "
   ]
  },
  {
   "cell_type": "markdown",
   "metadata": {},
   "source": [
    "#### Objective Testing"
   ]
  },
  {
   "cell_type": "code",
   "execution_count": 12,
   "metadata": {},
   "outputs": [
    {
     "data": {
      "text/plain": [
       "FirstOrderObjective (generic function with 1 method)"
      ]
     },
     "metadata": {},
     "output_type": "display_data"
    }
   ],
   "source": [
    "# Copy the FirstOrderObjective function\n",
    "function FirstOrderObjective(\n",
    "    H_err::AbstractMatrix{<:Number},\n",
    "    traj::NamedTrajectory,\n",
    "    times::AbstractVector{Int};\n",
    "    Qs::AbstractVector{<:Float64}=fill(1.0, length(times))\n",
    ")\n",
    "    Ũ⃗_indices = [collect(slice(k, traj.components.Ũ⃗, traj.dim)) for k=1:traj.T]\n",
    "        \n",
    "    function ℓ(Z::AbstractVector{<:Real})\n",
    "        Ũ⃗s = [Z[idx] for idx in Ũ⃗_indices]\n",
    "        Us = [iso_vec_to_operator(Ũ⃗) for Ũ⃗ in Ũ⃗s]\n",
    "        terms = [U' * H_err * U for U in Us]\n",
    "        sum_terms = sum(terms)\n",
    "        return norm(tr(sum_terms' * sum_terms), 1) / real(traj.T * norm(H_err, 1))\n",
    "    end\n",
    "\n",
    "    ∇ℓ = Z -> ForwardDiff.gradient(ℓ, Z)\n",
    "\n",
    "    function ∂²ℓ_structure()\n",
    "        Z_dim = traj.dim * traj.T + traj.global_dim\n",
    "        structure = spzeros(Z_dim, Z_dim)\n",
    "        all_Ũ⃗_indices = vcat(Ũ⃗_indices...)\n",
    "        \n",
    "        for i in all_Ũ⃗_indices\n",
    "            for j in all_Ũ⃗_indices\n",
    "                structure[i, j] = 1.0\n",
    "            end\n",
    "        end\n",
    "        \n",
    "        structure_pairs = collect(zip(findnz(structure)[1:2]...))\n",
    "        return structure_pairs\n",
    "    end\n",
    "\n",
    "    function ∂²ℓ(Z::AbstractVector{<:Real})\n",
    "        structure_pairs = ∂²ℓ_structure()\n",
    "        H_full = ForwardDiff.hessian(ℓ, Z)\n",
    "        ∂²ℓ_values = [H_full[i, j] for (i, j) in structure_pairs]\n",
    "        \n",
    "        return ∂²ℓ_values\n",
    "    end\n",
    "\n",
    "    return Objective(ℓ, ∇ℓ, ∂²ℓ, ∂²ℓ_structure)\n",
    "end"
   ]
  },
  {
   "cell_type": "code",
   "execution_count": 4,
   "metadata": {},
   "outputs": [
    {
     "data": {
      "text/plain": [
       "PiccoloOptions(false, true, ExponentialAction.expv, true, false, nothing, 1.0, false, false, 0.01, 0.01)"
      ]
     },
     "metadata": {},
     "output_type": "display_data"
    }
   ],
   "source": [
    "# Problem parameters\n",
    "T = 50\n",
    "Δt = 0.2\n",
    "U_goal = GATES.H\n",
    "H_drives_test = [PAULIS.X, PAULIS.Y]\n",
    "Hₑ = 0.1 * PAULIS.Z # error Hamiltonian\n",
    "rob_scale = 1 / 8.0\n",
    "piccolo_opts = PiccoloOptions(verbose=false)"
   ]
  },
  {
   "cell_type": "code",
   "execution_count": 5,
   "metadata": {},
   "outputs": [
    {
     "name": "stdout",
     "output_type": "stream",
     "text": [
      "    initializing optimizer...\n",
      "        applying constraint: timesteps all equal constraint\n",
      "        applying constraint: initial value of Ũ⃗\n",
      "        applying constraint: initial value of a\n",
      "        applying constraint: final value of a\n",
      "        applying constraint: bounds on a\n",
      "        applying constraint: bounds on da\n",
      "        applying constraint: bounds on dda\n",
      "        applying constraint: bounds on Δt\n",
      "\n",
      "******************************************************************************\n",
      "This program contains Ipopt, a library for large-scale nonlinear optimization.\n",
      " Ipopt is released as open source code under the Eclipse Public License (EPL).\n",
      "         For more information visit https://github.com/coin-or/Ipopt\n",
      "******************************************************************************\n",
      "\n",
      "Trajectory vector size: (750,)\n",
      "Trajectory components: (:Ũ⃗, :a, :da, :dda, :Δt)\n",
      "Trajectory dimensions: 15\n",
      "Trajectory time steps: 50\n",
      "\n",
      "Testing FirstOrderObjective function...\n"
     ]
    }
   ],
   "source": [
    "sys_test = QuantumSystem(H_drives_test)\n",
    "# Create a trajectory optimization problem\n",
    "test_prob = UnitarySmoothPulseProblem(\n",
    "    sys_test, U_goal, T, Δt;\n",
    "    H_err = Hₑ,\n",
    "    activate_rob_loss=true,\n",
    "    piccolo_options=piccolo_opts\n",
    ")\n",
    "\n",
    "solve!(test_prob, max_iter=50, print_level=0)\n",
    "\n",
    "# Extract trajectory data\n",
    "Z_vec = vec(test_prob.trajectory)\n",
    "println(\"Trajectory vector size: \", size(Z_vec))\n",
    "println(\"Trajectory components: \", keys(test_prob.trajectory.components))\n",
    "println(\"Trajectory dimensions: \", test_prob.trajectory.dim)\n",
    "println(\"Trajectory time steps: \", test_prob.trajectory.T)\n",
    "\n",
    "\n",
    "println(\"\\nTesting FirstOrderObjective function...\")"
   ]
  },
  {
   "cell_type": "code",
   "execution_count": 13,
   "metadata": {},
   "outputs": [
    {
     "name": "stdout",
     "output_type": "stream",
     "text": [
      "Objective value: 0.0018878032614524968\n",
      "Gradient size: (750,)\n",
      "Gradient norm: 0.03886185573303267\n",
      "First 10 gradient elements: [0.0009926963666354583, 0.0026804618658965176, 0.0, 0.0026328889457729195, -0.0026804618658965176, 0.0009926963666254487, 0.0026328889457729195, 0.0, 0.0, 0.0]\n",
      "\n",
      "Hessian structure pairs: 160000\n",
      "First 5 structure pairs: [(1, 1), (2, 1), (3, 1), (4, 1), (5, 1)]\n",
      "Hessian values size: (160000,)\n",
      "Hessian values norm: 0.8037673830242641\n",
      "First 5 Hessian values: [0.00899269636663546, 0.0, 0.0, 0.0, -0.0026804618658965176]\n"
     ]
    }
   ],
   "source": [
    "# Test the FirstOrderObjective function\n",
    "obj = FirstOrderObjective(Hₑ, test_prob.trajectory, [T])\n",
    "\n",
    "# Evaluate the objective function\n",
    "obj_value = obj.L(Z_vec)\n",
    "println(\"Objective value: \", obj_value)\n",
    "\n",
    "# Evaluate the gradient\n",
    "grad_value = obj.∇L(Z_vec)\n",
    "println(\"Gradient size: \", size(grad_value))\n",
    "println(\"Gradient norm: \", norm(grad_value))\n",
    "println(\"First 10 gradient elements: \", grad_value[1:min(10, length(grad_value))])\n",
    "\n",
    "# Test Hessian structure\n",
    "hess_structure = obj.∂²L_structure()\n",
    "println(\"\\nHessian structure pairs: \", length(hess_structure))\n",
    "println(\"First 5 structure pairs: \", hess_structure[1:min(5, length(hess_structure))])\n",
    "\n",
    "# Evaluate Hessian values\n",
    "hess_values = obj.∂²L(Z_vec)\n",
    "println(\"Hessian values size: \", size(hess_values))\n",
    "println(\"Hessian values norm: \", norm(hess_values))\n",
    "println(\"First 5 Hessian values: \", hess_values[1:min(5, length(hess_values))])"
   ]
  },
  {
   "cell_type": "code",
   "execution_count": 14,
   "metadata": {},
   "outputs": [
    {
     "name": "stdout",
     "output_type": "stream",
     "text": [
      "\n",
      "Verifying gradient computation...\n",
      "Gradient difference norm: 0.0\n",
      "Gradients match: true\n",
      "\n",
      "Verifying Hessian computation...\n",
      "Direct Hessian size: (750, 750)\n",
      "Hessian difference norm (structured elements): 0.0\n",
      "Hessians match: true\n",
      "\n",
      "FirstOrderObjective function test completed successfully!\n"
     ]
    }
   ],
   "source": [
    "println(\"\\nVerifying gradient computation...\")\n",
    "\n",
    "# Direct ForwardDiff gradient\n",
    "grad_direct = ForwardDiff.gradient(obj.L, Z_vec)\n",
    "grad_obj = obj.∇L(Z_vec)\n",
    "\n",
    "# Compare gradients\n",
    "grad_diff = norm(grad_direct - grad_obj)\n",
    "println(\"Gradient difference norm: \", grad_diff)\n",
    "println(\"Gradients match: \", isapprox(grad_direct, grad_obj, rtol=1e-10))\n",
    "\n",
    "# Verify Hessian using ForwardDiff\n",
    "println(\"\\nVerifying Hessian computation...\")\n",
    "\n",
    "# Direct ForwardDiff Hessian\n",
    "hess_direct = ForwardDiff.hessian(obj.L, Z_vec)\n",
    "println(\"Direct Hessian size: \", size(hess_direct))\n",
    "\n",
    "# Convert structured Hessian back to full matrix for comparison\n",
    "hess_structure = obj.∂²L_structure()\n",
    "hess_values = obj.∂²L(Z_vec)\n",
    "hess_sparse = sparse([p[1] for p in hess_structure], [p[2] for p in hess_structure], hess_values, length(Z_vec), length(Z_vec))\n",
    "hess_full = Matrix(hess_sparse)\n",
    "\n",
    "# Compare Hessians (only non-zero elements)\n",
    "hess_diff_norm = 0.0\n",
    "for (i, (row, col)) in enumerate(hess_structure)\n",
    "    hess_diff_norm += (hess_direct[row, col] - hess_values[i])^2\n",
    "end\n",
    "hess_diff_norm = sqrt(hess_diff_norm)\n",
    "\n",
    "println(\"Hessian difference norm (structured elements): \", hess_diff_norm)\n",
    "println(\"Hessians match: \", hess_diff_norm < 1e-10)\n",
    "\n",
    "println(\"\\nFirstOrderObjective function test completed successfully!\")"
   ]
  },
  {
   "cell_type": "markdown",
   "metadata": {},
   "source": []
  },
  {
   "cell_type": "markdown",
   "metadata": {},
   "source": []
  }
 ],
 "metadata": {
  "kernelspec": {
   "display_name": "Julia 1.11.5",
   "language": "julia",
   "name": "julia-1.11"
  },
  "language_info": {
   "file_extension": ".jl",
   "mimetype": "application/julia",
   "name": "julia",
   "version": "1.11.5"
  }
 },
 "nbformat": 4,
 "nbformat_minor": 2
}
