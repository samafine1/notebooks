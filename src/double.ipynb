{
 "cells": [
  {
   "cell_type": "markdown",
   "metadata": {},
   "source": [
    "# Robustness Analysis: Adjoint and Toggle-Frame Objectives Subject to Either Multiplicative or Additive Errors\n",
    "\n",
    "This notebook compares the performance of the adjoint and toggling-frame robustness objectives for multiplicative and additive error terms in the system's Hamiltonian. "
   ]
  },
  {
   "cell_type": "markdown",
   "metadata": {},
   "source": [
    "## Imports"
   ]
  },
  {
   "cell_type": "code",
   "execution_count": 1,
   "metadata": {},
   "outputs": [
    {
     "name": "stderr",
     "output_type": "stream",
     "text": [
      "\u001b[32m\u001b[1m  Activating\u001b[22m\u001b[39m project at `~/Documents/research/pulses/project/notebooks/src`\n",
      "┌ Warning: Circular dependency detected.\n",
      "│ Precompilation will be skipped for dependencies in this cycle:\n",
      "│ \u001b[90m ┌ \u001b[39mPiccolissimo\n",
      "│ \u001b[90m └─ \u001b[39mQuantumCollocation\n",
      "└ @ Base.Precompilation precompilation.jl:651\n",
      "┌ Warning: Circular dependency detected.\n",
      "│ Precompilation will be skipped for dependencies in this cycle:\n",
      "│  ┌ Piccolissimo\n",
      "│  └─ QuantumCollocation\n",
      "└ @ Base.Precompilation precompilation.jl:651\n",
      "\u001b[33m\u001b[1m┌ \u001b[22m\u001b[39m\u001b[33m\u001b[1mWarning: \u001b[22m\u001b[39mReplacing docs for `QuantumCollocation.ProblemTemplates.UnitaryUniversalProblem :: Union{}` in module `QuantumCollocation.ProblemTemplates`\n",
      "\u001b[33m\u001b[1m└ \u001b[22m\u001b[39m\u001b[90m@ Base.Docs docs/Docs.jl:243\u001b[39m\n",
      "WARNING: Method definition UnitaryUniversalProblem(PiccoloQuantumObjects.QuantumSystems.AbstractQuantumSystem, Union{AbstractArray{var\"#s74\", 2} where var\"#s74\"<:Number, PiccoloQuantumObjects.EmbeddedOperators.EmbeddedOperator{T} where T<:Number}, Int64, Union{Float64, AbstractArray{Float64, 1}}) in module ProblemTemplates at /Users/samafine1/Documents/research/pulses/project/QuantumCollocation.jl/src/problem_templates/unitary_universal_problem.jl:70 overwritten on the same line (check for duplicate calls to `include`).\n",
      "ERROR: Method overwriting is not permitted during Module precompilation. Use `__precompile__(false)` to opt-out of precompilation.\n",
      "┌ Warning: Replacing docs for `QuantumCollocation.ProblemTemplates.UnitaryUniversalProblem :: Union{}` in module `QuantumCollocation.ProblemTemplates`\n",
      "└ @ Base.Docs docs/Docs.jl:243\n"
     ]
    }
   ],
   "source": [
    "import Pkg; Pkg.activate(@__DIR__); Pkg.instantiate();\n",
    "# Pkg.develop(path=\"../../QuantumCollocation.jl\")\n",
    "using PiccoloQuantumObjects\n",
    "using QuantumCollocation\n",
    "using ForwardDiff\n",
    "using LinearAlgebra\n",
    "using Plots\n",
    "using SparseArrays\n",
    "using Statistics\n",
    "using CairoMakie\n",
    "using Random\n",
    "using NamedTrajectories\n"
   ]
  },
  {
   "cell_type": "code",
   "execution_count": 2,
   "metadata": {},
   "outputs": [
    {
     "data": {
      "text/plain": [
       "QuantumSystem: levels = 2, n_drives = 3"
      ]
     },
     "metadata": {},
     "output_type": "display_data"
    }
   ],
   "source": [
    "# Problem parameters\n",
    "T = 30\n",
    "Δt = 0.2\n",
    "U_goal = GATES.H\n",
    "H_drive = [PAULIS.X, PAULIS.Y, PAULIS.Z]\n",
    "piccolo_opts = PiccoloOptions(verbose=false)\n",
    "pretty_print(X::AbstractMatrix) = Base.show(stdout, \"text/plain\", X);\n",
    "sys = QuantumSystem(H_drive)"
   ]
  },
  {
   "cell_type": "markdown",
   "metadata": {},
   "source": [
    "sanity checks for our good ole adjoint"
   ]
  },
  {
   "cell_type": "code",
   "execution_count": 3,
   "metadata": {},
   "outputs": [
    {
     "data": {
      "text/plain": [
       "3-element Vector{SparseMatrixCSC{ComplexF64, Int64}}:\n",
       " sparse([2, 1], [1, 2], ComplexF64[1.0 + 0.0im, 1.0 + 0.0im], 2, 2)\n",
       " sparse([2, 1], [1, 2], ComplexF64[0.0 + 1.0im, 0.0 - 1.0im], 2, 2)\n",
       " sparse([1, 2], [1, 2], ComplexF64[1.0 + 0.0im, -1.0 + 0.0im], 2, 2)"
      ]
     },
     "metadata": {},
     "output_type": "display_data"
    }
   ],
   "source": [
    "sys.H.H_drives"
   ]
  },
  {
   "cell_type": "code",
   "execution_count": 4,
   "metadata": {},
   "outputs": [
    {
     "data": {
      "text/plain": [
       "PiccoloQuantumObjects.QuantumSystems.var\"#6#15\"{SparseMatrixCSC{ComplexF64, Int64}, Vector{SparseMatrixCSC{ComplexF64, Int64}}}"
      ]
     },
     "metadata": {},
     "output_type": "display_data"
    }
   ],
   "source": [
    "typeof(sys.H)"
   ]
  },
  {
   "cell_type": "code",
   "execution_count": 5,
   "metadata": {},
   "outputs": [
    {
     "data": {
      "text/plain": [
       "false"
      ]
     },
     "metadata": {},
     "output_type": "display_data"
    }
   ],
   "source": [
    "length(sys.H.H_drives)\n",
    "X_drive = sys.H.H_drives[1]\n",
    "X_drive === H_drive[1]"
   ]
  },
  {
   "cell_type": "code",
   "execution_count": 6,
   "metadata": {},
   "outputs": [
    {
     "name": "stdout",
     "output_type": "stream",
     "text": [
      "    initializing optimizer...\n",
      "        applying constraint: initial value of Ũ⃗\n",
      "        applying constraint: initial value of a\n",
      "        applying constraint: final value of a\n",
      "        applying constraint: bounds on a\n",
      "        applying constraint: bounds on da\n",
      "        applying constraint: bounds on dda\n",
      "        applying constraint: bounds on Δt\n",
      "\n",
      "******************************************************************************\n",
      "This program contains Ipopt, a library for large-scale nonlinear optimization.\n",
      " Ipopt is released as open source code under the Eclipse Public License (EPL).\n",
      "         For more information visit https://github.com/coin-or/Ipopt\n",
      "******************************************************************************\n",
      "\n",
      "This is Ipopt version 3.14.19, running with linear solver MUMPS 5.8.1.\n",
      "\n",
      "Number of nonzeros in equality constraint Jacobian...:     3212\n",
      "Number of nonzeros in inequality constraint Jacobian.:        0\n",
      "Number of nonzeros in Lagrangian Hessian.............:    46318\n",
      "\n",
      "Total number of variables............................:      496\n",
      "                     variables with only lower bounds:        0\n",
      "                variables with lower and upper bounds:      174\n",
      "                     variables with only upper bounds:        0\n",
      "Total number of equality constraints.................:      406\n",
      "Total number of inequality constraints...............:        0\n",
      "        inequality constraints with only lower bounds:        0\n",
      "   inequality constraints with lower and upper bounds:        0\n",
      "        inequality constraints with only upper bounds:        0\n",
      "\n",
      "iter    objective    inf_pr   inf_du lg(mu)  ||d||  lg(rg) alpha_du alpha_pr  ls\n",
      "   0  1.0566584e-01 7.43e+00 5.44e+00   0.0 0.00e+00    -  0.00e+00 0.00e+00   0\n",
      "   1  1.9195107e+02 2.33e+00 4.07e+03  -4.0 4.47e+00   2.0 1.14e-02 1.00e+00h  1\n",
      "   2  4.5541205e+01 3.05e-01 3.31e+03   0.0 2.53e+00   2.4 1.00e+00 1.00e+00f  1\n",
      "   3  5.9425171e+01 1.33e-01 8.36e+02   0.3 1.68e+00   1.9 1.00e+00 8.37e-01h  1\n",
      "   4  8.2153062e+01 1.00e-02 1.60e+02  -0.5 5.86e-01   2.4 1.00e+00 1.00e+00h  1\n",
      "   5  8.0478469e+01 3.72e-04 7.18e+00  -0.3 6.24e-02   1.9 1.00e+00 1.00e+00f  1\n",
      "   6  6.6637974e+01 9.01e-04 6.42e+00  -1.1 1.30e-01   1.4 9.96e-01 1.00e+00f  1\n",
      "   7  1.6910898e+00 1.06e-02 2.77e+01  -0.7 8.85e-01   0.9 1.00e+00 5.00e-01f  2\n",
      "   8  5.3045861e+00 3.66e-03 1.51e+02  -1.1 2.69e-01   0.5 9.96e-01 1.00e+00h  1\n",
      "   9  9.9181210e+00 5.01e-03 1.32e+02  -1.7 2.60e-01  -0.0 1.00e+00 1.00e+00h  1\n",
      "iter    objective    inf_pr   inf_du lg(mu)  ||d||  lg(rg) alpha_du alpha_pr  ls\n",
      "  10  1.4505669e+00 1.14e-03 9.34e+00  -2.3 1.20e-01   1.3 1.00e+00 1.00e+00f  1\n",
      "  11  3.7465901e-01 3.21e-04 1.62e+00  -3.7 6.49e-02   0.8 1.00e+00 1.00e+00f  1\n",
      "  12  3.4008530e-01 1.78e-04 1.43e+02  -4.0 5.00e-02   0.4 1.00e+00 1.00e+00f  1\n",
      "  13  1.0901182e-01 1.08e-04 7.10e+01  -4.0 3.39e-02  -0.1 1.00e+00 5.00e-01f  2\n",
      "  14  8.0434720e-02 1.09e-04 7.63e+01  -4.0 1.51e-01  -0.6 1.00e+00 6.25e-02f  5\n",
      "  15  2.9915629e-02 1.03e-04 7.13e+01  -4.0 6.06e-02   0.7 1.00e+00 6.25e-02f  5\n",
      "  16  2.7749557e-02 1.01e-04 7.27e+01  -4.0 7.70e-02   0.3 1.00e+00 1.56e-02f  7\n",
      "  17  2.2496666e-02 1.01e-04 7.05e+01  -4.0 8.52e-02   0.7 1.00e+00 3.91e-03f  9\n",
      "  18  2.5413463e-02 1.00e-04 7.27e+01  -4.0 7.76e-02   0.2 1.00e+00 3.91e-03h  9\n",
      "  19  2.2524144e-02 1.00e-04 7.04e+01  -4.0 1.03e-01   0.6 1.00e+00 1.95e-03f 10\n",
      "iter    objective    inf_pr   inf_du lg(mu)  ||d||  lg(rg) alpha_du alpha_pr  ls\n",
      "  20  2.5577344e-02 9.99e-05 7.29e+01  -4.0 8.12e-02   0.2 1.00e+00 3.91e-03h  9\n",
      "  21  2.2920662e-02 9.97e-05 7.02e+01  -4.0 1.25e-01   0.6 1.00e+00 1.95e-03f 10\n",
      "  22  2.3578137e-02 9.95e-05 7.29e+01  -4.0 8.47e-02   0.1 1.00e+00 1.95e-03h 10\n",
      "  23  2.3440825e-02 9.94e-05 7.02e+01  -4.0 1.58e-01   0.5 1.00e+00 9.77e-04f 11\n",
      "  24  2.3159188e-02 9.92e-05 7.29e+01  -4.0 8.83e-02   0.1 1.00e+00 1.95e-03h 10\n",
      "  25  2.3004980e-02 9.92e-05 7.01e+01  -4.0 2.59e-01   0.5 1.00e+00 4.88e-04f 12\n",
      "  26  2.3680352e-02 9.90e-05 7.31e+01  -4.0 9.15e-02   0.0 1.00e+00 1.95e-03h 10\n",
      "  27  2.2666136e-02 9.90e-05 7.00e+01  -3.6 2.87e+00   0.4 1.00e+00 2.44e-04f 13\n",
      "  28  2.4094878e-02 9.88e-05 7.32e+01  -4.0 9.46e-02  -0.0 1.00e+00 1.95e-03h 10\n",
      "  29  2.7874475e-02 9.72e-05 7.09e+01  -4.0 1.55e-02   1.3 1.00e+00 1.56e-02h  7\n",
      "iter    objective    inf_pr   inf_du lg(mu)  ||d||  lg(rg) alpha_du alpha_pr  ls\n",
      "  30  4.1835468e-02 8.62e-05 8.08e+01  -4.0 3.30e-02   0.8 1.00e+00 1.25e-01h  4\n",
      "  31  2.2403123e-02 8.57e-05 6.28e+01  -4.0 1.90e-01   0.3 1.00e+00 7.81e-03f  8\n",
      "  32  2.5126428e-02 8.54e-05 8.04e+01  -4.0 7.36e-02  -0.1 1.00e+00 3.91e-03h  9\n",
      "  33  2.2827519e-02 8.53e-05 6.26e+01  -4.0 2.61e-01   0.3 1.00e+00 9.77e-04f 11\n",
      "  34  2.4763583e-02 8.50e-05 8.06e+01  -4.0 7.47e-02  -0.2 1.00e+00 3.91e-03h  9\n",
      "  35  2.3953795e-02 8.49e-05 6.24e+01  -4.0 3.83e-01   0.2 1.00e+00 9.77e-04f 11\n",
      "  36  2.3702833e-02 8.46e-05 8.08e+01  -4.0 7.58e-02  -0.2 1.00e+00 3.91e-03h  9\n",
      "  37  2.3670167e-02 8.45e-05 6.22e+01  -4.0 7.77e-01   0.2 1.00e+00 4.88e-04f 12\n",
      "  38  2.4015540e-02 8.42e-05 8.10e+01  -4.0 7.64e-02  -0.3 1.00e+00 3.91e-03h  9\n",
      "  39  2.4863777e-02 8.36e-05 6.26e+01  -4.0 2.56e-02   1.0 1.00e+00 7.81e-03h  8\n",
      "iter    objective    inf_pr   inf_du lg(mu)  ||d||  lg(rg) alpha_du alpha_pr  ls\n",
      "  40  2.8923889e-02 8.11e-05 8.23e+01  -4.0 4.02e-02   0.6 1.00e+00 3.12e-02h  6\n",
      "  41  2.3338173e-02 8.10e-05 6.07e+01  -4.0 1.76e+00   0.1 1.00e+00 9.77e-04f 11\n",
      "  42  2.4151957e-02 8.07e-05 8.25e+01  -4.0 7.35e-02  -0.4 1.00e+00 3.91e-03h  9\n",
      "  43  2.5201952e-02 8.01e-05 6.11e+01  -4.0 3.20e-02   0.9 1.00e+00 7.81e-03h  8\n",
      "  44  2.9880102e-02 7.77e-05 8.37e+01  -4.0 4.36e-02   0.4 1.00e+00 3.12e-02h  6\n",
      "  45  2.5867192e-02 7.77e-05 5.93e+01  -3.6 3.11e+00  -0.0 1.00e+00 9.77e-04f 11\n",
      "  46  2.4177199e-02 7.71e-05 8.41e+01  -4.0 7.06e-02  -0.5 1.00e+00 7.81e-03f  8\n",
      "  47  2.3119943e-02 7.68e-05 5.92e+01  -4.0 3.99e-02   0.8 1.00e+00 3.91e-03h  9\n",
      "  48  2.7088410e-02 7.57e-05 8.47e+01  -4.0 4.59e-02   0.3 1.00e+00 1.56e-02h  7\n",
      "  49  2.3163211e-02 7.51e-05 5.89e+01  -4.0 4.41e-02   0.8 1.00e+00 7.81e-03f  8\n",
      "iter    objective    inf_pr   inf_du lg(mu)  ||d||  lg(rg) alpha_du alpha_pr  ls\n",
      "  50  2.7284027e-02 7.40e-05 8.50e+01  -4.0 4.73e-02   0.3 1.00e+00 1.56e-02h  7\n",
      "  51  2.3351367e-02 7.34e-05 5.87e+01  -4.0 4.92e-02   0.7 1.00e+00 7.81e-03f  8\n",
      "  52  2.7311196e-02 7.23e-05 8.52e+01  -4.0 4.85e-02   0.2 1.00e+00 1.56e-02h  7\n",
      "  53  2.3757568e-02 7.17e-05 5.84e+01  -4.0 5.50e-02   0.7 1.00e+00 7.81e-03f  8\n",
      "  54  2.7100941e-02 7.06e-05 8.55e+01  -4.0 4.97e-02   0.2 1.00e+00 1.56e-02h  7\n",
      "  55  2.4459207e-02 7.01e-05 5.82e+01  -4.0 6.14e-02   0.6 1.00e+00 7.81e-03f  8\n",
      "  56  2.6581162e-02 6.90e-05 8.57e+01  -4.0 5.08e-02   0.1 1.00e+00 1.56e-02h  7\n",
      "  57  2.5538850e-02 6.85e-05 5.79e+01  -4.0 6.88e-02   0.6 1.00e+00 7.81e-03f  8\n",
      "  58  2.2380217e-02 6.80e-05 8.55e+01  -4.0 5.18e-02   0.1 1.00e+00 7.81e-03h  8\n",
      "  59  2.3297773e-02 6.79e-05 5.75e+01  -4.0 8.00e-02   0.5 1.00e+00 9.77e-04h 11\n",
      "iter    objective    inf_pr   inf_du lg(mu)  ||d||  lg(rg) alpha_du alpha_pr  ls\n",
      "  60  2.4637934e-02 6.74e-05 8.59e+01  -4.1 5.23e-02   0.0 1.00e+00 7.81e-03h  8\n",
      "  61  2.4560690e-02 6.72e-05 5.74e+01  -4.0 8.92e-02   0.5 1.00e+00 3.91e-03f  9\n",
      "  62  2.3490504e-02 6.66e-05 8.60e+01  -4.0 5.35e-02  -0.0 1.00e+00 7.81e-03h  8\n",
      "  63  2.2400537e-02 6.66e-05 5.71e+01  -4.0 1.02e-01   0.4 1.00e+00 9.77e-04h 11\n",
      "  64  2.5640561e-02 6.61e-05 8.63e+01  -4.0 5.38e-02  -0.1 1.00e+00 7.81e-03h  8\n",
      "  65  2.4497504e-02 6.58e-05 5.70e+01  -4.0 1.13e-01   0.4 1.00e+00 3.91e-03f  9\n",
      "  66  2.3660572e-02 6.53e-05 8.64e+01  -4.0 5.48e-02  -0.1 1.00e+00 7.81e-03h  8\n",
      "  67  2.2502741e-02 6.53e-05 5.66e+01  -4.0 1.30e-01   0.3 1.00e+00 9.77e-04f 11\n",
      "  68  2.5624546e-02 6.48e-05 8.68e+01  -4.0 5.48e-02  -0.2 1.00e+00 7.81e-03h  8\n",
      "  69  2.2348287e-02 6.46e-05 5.63e+01  -4.0 1.44e-01   0.3 1.00e+00 1.95e-03f 10\n",
      "iter    objective    inf_pr   inf_du lg(mu)  ||d||  lg(rg) alpha_du alpha_pr  ls\n",
      "  70  2.5796998e-02 6.42e-05 8.71e+01  -4.0 5.51e-02  -0.2 1.00e+00 7.81e-03h  8\n",
      "  71  2.2508187e-02 6.40e-05 5.61e+01  -4.0 1.62e-01   0.2 1.00e+00 1.95e-03f 10\n",
      "  72  2.5654816e-02 6.35e-05 8.73e+01  -4.0 5.53e-02  -0.3 1.00e+00 7.81e-03h  8\n",
      "  73  2.3017936e-02 6.34e-05 5.58e+01  -4.0 1.81e-01   0.2 1.00e+00 1.95e-03f 10\n",
      "  74  2.5164663e-02 6.29e-05 8.76e+01  -4.0 5.54e-02  -0.3 1.00e+00 7.81e-03h  8\n",
      "  75  2.3912978e-02 6.28e-05 5.55e+01  -4.0 2.02e-01   0.1 1.00e+00 1.95e-03f 10\n",
      "  76  2.4293192e-02 6.24e-05 8.79e+01  -4.0 5.55e-02  -0.4 1.00e+00 7.81e-03h  8\n",
      "  77  2.2772774e-02 6.23e-05 5.52e+01  -4.0 2.24e-01   0.1 1.00e+00 9.77e-04f 11\n",
      "  78  2.5381822e-02 6.18e-05 8.82e+01  -4.0 5.50e-02  -0.4 1.00e+00 7.81e-03h  8\n",
      "  79  2.4502779e-02 6.17e-05 5.49e+01  -4.0 2.43e-01   0.0 1.00e+00 1.95e-03f 10\n",
      "iter    objective    inf_pr   inf_du lg(mu)  ||d||  lg(rg) alpha_du alpha_pr  ls\n",
      "  80  2.3687738e-02 6.12e-05 8.85e+01  -4.0 5.51e-02  -0.5 1.00e+00 7.81e-03h  8\n",
      "  81  2.2365091e-02 6.12e-05 5.46e+01  -4.0 2.67e-01  -0.0 1.00e+00 4.88e-04f 12\n",
      "  82  2.5728664e-02 6.07e-05 8.89e+01  -4.0 5.43e-02  -0.5 1.00e+00 7.81e-03h  8\n",
      "  83  2.4945553e-02 6.06e-05 5.43e+01  -4.0 2.82e-01  -0.1 1.00e+00 1.95e-03f 10\n",
      "  84  2.3200052e-02 6.02e-05 8.91e+01  -4.0 5.43e-02  -0.6 1.00e+00 7.81e-03h  8\n",
      "  85  2.2398534e-02 6.02e-05 5.39e+01  -2.2 4.21e+01  -1.1 1.00e+00 7.48e-06f 14\n",
      "  86  2.5623031e-02 5.97e-05 8.95e+01  -3.7 5.27e-02  -0.6 1.00e+00 7.81e-03h  8\n",
      "  87  2.3204030e-02 5.97e-05 5.35e+01  -3.4 2.42e+00  -1.1 1.00e+00 2.13e-04f 13\n",
      "  88  2.4793051e-02 5.93e-05 8.99e+01  -4.0 5.27e-02  -0.7 1.00e+00 7.81e-03h  8\n",
      "  89  2.3455547e-02 5.93e-05 5.31e+01  -4.0 1.59e+00  -1.2 1.00e+00 2.42e-04f 13\n",
      "iter    objective    inf_pr   inf_du lg(mu)  ||d||  lg(rg) alpha_du alpha_pr  ls\n",
      "  90  2.4498057e-02 5.88e-05 9.03e+01  -4.0 5.19e-02  -0.7 1.00e+00 7.81e-03h  8\n",
      "  91  2.2785485e-02 5.88e-05 5.27e+01  -4.0 1.25e+00  -1.2 1.00e+00 2.16e-04f 13\n",
      "  92  2.5095332e-02 5.84e-05 9.07e+01  -4.0 5.10e-02  -0.8 1.00e+00 7.81e-03h  8\n",
      "  93  2.2905739e-02 5.83e-05 5.23e+01  -3.7 1.41e+00  -1.3 1.00e+00 3.17e-04f 12\n",
      "  94  2.4922760e-02 5.79e-05 9.11e+01  -4.0 5.01e-02  -0.8 1.00e+00 7.81e-03h  8\n",
      "  95  2.2833674e-02 5.79e-05 5.20e+01  -3.5 2.48e+00  -1.3 1.00e+00 3.09e-04f 11\n",
      "  96  2.4931241e-02 5.74e-05 9.15e+01  -4.0 4.92e-02  -0.9 1.00e+00 7.81e-03h  8\n",
      "  97  2.3307009e-02 5.74e-05 5.17e+01  -4.0 3.42e-01  -0.5 1.00e+00 9.77e-04f 11\n",
      "  98  2.4423076e-02 5.70e-05 9.18e+01  -4.0 4.84e-02  -0.9 1.00e+00 7.81e-03h  8\n",
      "  99  2.3826648e-02 5.69e-05 5.14e+01  -4.0 3.44e-01  -0.5 1.00e+00 9.77e-04f 11\n",
      "iter    objective    inf_pr   inf_du lg(mu)  ||d||  lg(rg) alpha_du alpha_pr  ls\n",
      " 100  2.3869048e-02 5.65e-05 9.21e+01  -4.0 4.76e-02  -1.0 1.00e+00 7.81e-03h  8\n",
      " 101  2.2531225e-02 5.64e-05 5.10e+01  -4.0 3.44e-01  -0.6 1.00e+00 4.88e-04f 12\n",
      " 102  2.5073858e-02 5.60e-05 9.25e+01  -4.0 4.64e-02  -1.0 1.00e+00 7.81e-03h  8\n",
      " 103  2.3069108e-02 5.60e-05 5.07e+01  -4.0 3.37e-01  -0.6 1.00e+00 9.77e-04f 11\n",
      " 104  2.4501298e-02 5.55e-05 9.28e+01  -4.0 4.56e-02  -1.1 1.00e+00 7.81e-03h  8\n",
      " 105  2.3595479e-02 5.55e-05 5.04e+01  -4.0 3.32e-01  -0.7 1.00e+00 9.77e-04f 11\n",
      " 106  2.3939569e-02 5.51e-05 9.31e+01  -4.0 4.52e-02  -1.1 1.00e+00 7.81e-03h  8\n",
      " 107  2.2355906e-02 5.50e-05 5.01e+01  -4.0 3.26e-01  -0.7 1.00e+00 4.88e-04f 12\n",
      " 108  2.7982259e-02 5.42e-05 9.38e+01  -4.0 4.45e-02  -1.2 1.00e+00 1.56e-02h  7\n",
      " 109  2.2716444e-02 5.41e-05 4.95e+01  -4.0 2.93e-01  -0.8 1.00e+00 1.95e-03f 10\n",
      "iter    objective    inf_pr   inf_du lg(mu)  ||d||  lg(rg) alpha_du alpha_pr  ls\n",
      " 110  2.7438182e-02 5.33e-05 9.44e+01  -4.0 4.37e-02  -1.2 1.00e+00 1.56e-02h  7\n",
      " 111  2.2831013e-02 5.33e-05 4.89e+01  -4.0 2.73e-01  -0.8 1.00e+00 1.95e-03f 10\n",
      " 112  2.7133377e-02 5.25e-05 9.50e+01  -4.0 4.28e-02  -1.3 1.00e+00 1.56e-02h  7\n",
      " 113  2.2738109e-02 5.24e-05 4.83e+01  -4.0 2.54e-01  -0.9 1.00e+00 1.95e-03f 10\n",
      " 114  2.7031544e-02 5.16e-05 9.56e+01  -4.0 4.20e-02  -1.3 1.00e+00 1.56e-02h  7\n",
      " 115  2.2472231e-02 5.15e-05 4.78e+01  -4.0 2.37e-01  -0.9 1.00e+00 1.95e-03f 10\n",
      " 116  2.7099859e-02 5.07e-05 9.61e+01  -4.0 4.43e-02  -1.4 1.00e+00 1.56e-02h  7\n",
      " 117  2.6708574e-02 5.06e-05 4.74e+01  -4.0 2.22e-01  -1.0 1.00e+00 3.91e-03f  9\n",
      " 118  2.2933299e-02 4.98e-05 9.65e+01  -4.0 9.26e-02  -1.4 1.00e+00 1.56e-02h  7\n",
      " 119  2.2703948e-02 4.97e-05 4.67e+01  -4.0 2.15e-01  -1.0 1.00e+00 4.88e-04f 12\n",
      "iter    objective    inf_pr   inf_du lg(mu)  ||d||  lg(rg) alpha_du alpha_pr  ls\n",
      " 120  2.6205351e-02 4.90e-05 9.72e+01  -4.0 4.05e-02  -0.6 1.00e+00 1.56e-02h  7\n",
      " 121  2.2413805e-02 4.89e-05 4.62e+01  -4.0 1.96e-01  -1.1 1.00e+00 1.95e-03f 10\n",
      " 122  2.6367902e-02 4.82e-05 9.77e+01  -4.0 3.97e-02  -0.6 1.00e+00 1.56e-02h  7\n",
      " 123  2.5870771e-02 4.80e-05 4.58e+01  -4.0 1.84e-01  -1.1 1.00e+00 3.91e-03f  9\n",
      " 124  2.2986940e-02 4.73e-05 9.80e+01  -4.0 3.95e-02  -0.7 1.00e+00 1.56e-02h  7\n",
      " 125  2.2450757e-02 4.73e-05 4.52e+01  -4.0 1.78e-01  -1.2 1.00e+00 4.88e-04f 12\n",
      " 126  2.6111911e-02 4.66e-05 9.87e+01  -4.0 3.80e-02  -0.7 1.00e+00 1.56e-02h  7\n",
      " 127  2.5300947e-02 4.64e-05 4.49e+01  -4.0 1.63e-01  -1.2 1.00e+00 3.91e-03f  9\n",
      " 128  2.3305469e-02 4.57e-05 9.90e+01  -4.0 3.77e-02  -0.8 1.00e+00 1.56e-02h  7\n",
      " 129  2.2873251e-02 4.57e-05 4.43e+01  -4.0 1.58e-01  -1.3 1.00e+00 9.77e-04f 11\n",
      "iter    objective    inf_pr   inf_du lg(mu)  ||d||  lg(rg) alpha_du alpha_pr  ls\n",
      " 130  2.9384456e-02 4.44e-05 1.00e+02  -4.0 3.63e-02  -0.8 1.00e+00 3.12e-02h  6\n",
      " 131  2.6424957e-02 4.41e-05 4.37e+01  -4.0 1.37e-01  -1.3 1.00e+00 7.81e-03f  8\n",
      " 132  2.5789177e-02 4.29e-05 1.01e+02  -4.0 3.55e-02  -0.9 1.00e+00 3.12e-02h  6\n",
      " 133  2.4082641e-02 4.27e-05 4.27e+01  -4.0 1.33e-01  -1.4 1.00e+00 3.91e-03f  9\n",
      " 134  2.7476254e-02 4.15e-05 1.02e+02  -4.0 3.36e-02  -1.0 1.00e+00 3.12e-02h  6\n",
      " 135  2.6646913e-02 4.13e-05 4.22e+01  -4.0 1.24e-01  -1.4 1.00e+00 7.81e-03f  8\n",
      " 136  2.4806683e-02 4.01e-05 1.02e+02  -4.0 3.28e-02  -1.0 1.00e+00 3.12e-02h  6\n",
      " 137  2.4253925e-02 3.99e-05 4.13e+01  -4.0 1.26e-01  -1.5 1.00e+00 3.91e-03f  9\n",
      " 138  2.6591545e-02 3.88e-05 1.03e+02  -4.0 3.13e-02  -1.1 1.00e+00 3.12e-02h  6\n",
      " 139  2.6170144e-02 3.86e-05 4.08e+01  -4.0 1.62e-01  -1.5 1.00e+00 7.81e-03f  8\n",
      "iter    objective    inf_pr   inf_du lg(mu)  ||d||  lg(rg) alpha_du alpha_pr  ls\n",
      " 140  2.4535416e-02 3.74e-05 1.04e+02  -4.0 3.08e-02  -1.1 1.00e+00 3.12e-02h  6\n",
      " 141  2.3894426e-02 3.73e-05 3.99e+01  -4.0 5.99e-01  -1.6 1.00e+00 3.91e-03f  9\n",
      " 142  2.6242798e-02 3.62e-05 1.04e+02  -4.0 2.96e-02  -1.2 1.00e+00 3.12e-02h  6\n",
      " 143  2.4742214e-02 3.60e-05 3.95e+01  -4.0 9.27e-02  -0.7 1.00e+00 7.81e-03f  8\n",
      " 144  2.5201111e-02 3.49e-05 1.05e+02  -4.0 2.90e-02  -1.2 1.00e+00 3.12e-02h  6\n",
      " 145  2.2337852e-02 3.48e-05 3.87e+01  -4.0 9.05e-02  -0.8 1.00e+00 3.91e-03f  9\n",
      " 146  3.2167924e-02 3.28e-05 1.07e+02  -4.0 2.78e-02  -1.3 1.00e+00 6.25e-02h  5\n",
      " 147  2.2344995e-02 3.24e-05 3.79e+01  -4.0 7.67e-02  -0.8 1.00e+00 1.56e-02f  7\n",
      " 148  3.1273454e-02 3.06e-05 1.07e+02  -4.0 2.66e-02  -1.3 1.00e+00 6.25e-02h  5\n",
      " 149  2.2340376e-02 3.02e-05 3.73e+01  -4.0 7.26e-02  -0.9 1.00e+00 1.56e-02f  7\n",
      "iter    objective    inf_pr   inf_du lg(mu)  ||d||  lg(rg) alpha_du alpha_pr  ls\n",
      " 150  3.0472141e-02 2.84e-05 1.08e+02  -4.0 2.55e-02  -1.4 1.00e+00 6.25e-02h  5\n",
      " 151  2.2328666e-02 2.81e-05 3.66e+01  -4.0 6.89e-02  -0.9 1.00e+00 1.56e-02f  7\n",
      " 152  2.9749785e-02 2.64e-05 1.09e+02  -4.0 2.57e-02  -1.4 1.00e+00 6.25e-02h  5\n",
      " 153  2.2312577e-02 2.61e-05 3.60e+01  -4.0 6.56e-02  -1.0 1.00e+00 1.56e-02f  7\n",
      " 154  2.9095086e-02 2.46e-05 1.09e+02  -4.0 2.70e-02  -1.5 1.00e+00 6.25e-02h  5\n",
      " 155  2.2293516e-02 2.42e-05 3.55e+01  -4.0 6.26e-02  -1.0 1.00e+00 1.56e-02f  7\n",
      " 156  2.8498878e-02 2.28e-05 1.10e+02  -4.0 2.88e-02  -1.5 1.00e+00 6.25e-02h  5\n",
      " 157  2.2272025e-02 2.25e-05 3.50e+01  -4.0 5.99e-02  -1.1 1.00e+00 1.56e-02f  7\n",
      " 158  3.4001986e-02 1.98e-05 1.12e+02  -4.0 3.11e-02  -1.6 1.00e+00 1.25e-01h  4\n",
      " 159  2.9150658e-02 1.91e-05 3.76e+01  -4.0 4.82e-02  -1.1 1.00e+00 6.25e-02f  5\n",
      "iter    objective    inf_pr   inf_du lg(mu)  ||d||  lg(rg) alpha_du alpha_pr  ls\n",
      " 160  2.8723869e-02 1.70e-05 1.10e+02  -4.0 3.48e-02  -1.6 1.00e+00 1.25e-01f  4\n",
      " 161  2.5177188e-02 1.66e-05 3.63e+01  -4.0 5.19e-02  -1.2 1.00e+00 3.12e-02f  6\n",
      " 162  2.9597717e-02 1.54e-05 1.11e+02  -4.0 3.68e-02  -1.7 1.00e+00 1.25e-01h  4\n",
      " 163  2.2400187e-02 1.50e-05 3.53e+01  -4.0 4.55e-02  -1.2 1.00e+00 3.12e-02f  6\n",
      " 164  2.9956799e-02 1.38e-05 1.12e+02  -4.0 3.95e-02  -1.7 1.00e+00 1.25e-01h  4\n",
      " 165  2.7196244e-02 1.31e-05 3.78e+01  -4.0 3.94e-02  -1.3 1.00e+00 6.25e-02f  5\n",
      " 166  2.6233221e-02 1.22e-05 1.09e+02  -4.0 4.76e-02  -1.8 1.00e+00 1.25e-01f  4\n",
      " 167  2.4379987e-02 1.19e-05 3.65e+01  -4.0 3.95e-02  -1.3 1.00e+00 3.12e-02f  6\n",
      " 168  2.2997829e-02 1.13e-05 1.08e+02  -4.0 5.50e-02  -1.8 1.00e+00 6.25e-02h  5\n",
      " 169  2.2380005e-02 1.12e-05 3.51e+01  -4.0 4.27e-02  -1.4 1.00e+00 7.81e-03h  8\n",
      "iter    objective    inf_pr   inf_du lg(mu)  ||d||  lg(rg) alpha_du alpha_pr  ls\n",
      " 170  2.1897262e-02 1.11e-05 1.08e+02  -4.0 8.90e-02  -1.9 1.00e+00 1.56e-02h  7\n",
      " 171  2.3494952e-02 1.11e-05 3.54e+01  -4.0 4.46e-02  -1.4 1.00e+00 7.81e-03h  8\n",
      " 172  3.2919304e-02 9.36e-06 1.16e+02  -4.1 1.53e-02  -1.0 1.00e+00 2.50e-01h  3\n",
      " 173  2.2877668e-02 8.72e-06 4.10e+01  -4.0 2.55e-02  -1.5 1.00e+00 1.25e-01f  4\n",
      " 174  3.2696445e-02 7.29e-06 1.11e+02  -4.0 1.53e-02  -1.1 1.00e+00 2.50e-01h  3\n",
      " 175  3.1376743e-02 8.60e-06 5.85e+01  -4.0 2.83e-02  -1.5 1.00e+00 2.50e-01f  3\n",
      " 176  2.7199340e-02 8.05e-06 9.09e+01  -4.1 2.71e-02  -1.1 1.00e+00 1.25e-01f  4\n",
      " 177  2.5097671e-02 8.11e-06 5.27e+01  -4.1 1.63e-01  -0.7 1.00e+00 1.56e-02f  7\n",
      " 178  2.2958973e-02 7.69e-06 9.28e+01  -4.1 2.10e-02  -1.2 1.00e+00 6.25e-02h  5\n",
      " 179  2.2241539e-02 7.66e-06 4.98e+01  -4.0 1.30e-01  -0.7 1.00e+00 3.91e-03f  9\n",
      "iter    objective    inf_pr   inf_du lg(mu)  ||d||  lg(rg) alpha_du alpha_pr  ls\n",
      " 180  2.8151720e-02 7.00e-06 9.86e+01  -4.0 1.84e-02  -1.2 1.00e+00 1.25e-01h  4\n",
      " 181  2.6643768e-02 6.94e-06 4.97e+01  -4.0 5.43e-02  -0.8 1.00e+00 6.25e-02f  5\n",
      " 182  2.5440743e-02 6.43e-06 9.87e+01  -4.0 1.97e-02  -1.3 1.00e+00 1.25e-01f  4\n",
      " 183  2.4387359e-02 6.34e-06 4.66e+01  -4.0 5.93e-02  -0.8 1.00e+00 3.12e-02f  6\n",
      " 184  2.5523111e-02 5.86e-06 1.01e+02  -4.0 1.90e-02  -1.3 1.00e+00 1.25e-01h  4\n",
      " 185  2.2573690e-02 5.75e-06 4.40e+01  -4.0 4.63e-02  -0.9 1.00e+00 3.12e-02f  6\n",
      " 186  3.0756946e-02 5.46e-06 1.09e+02  -4.0 1.87e-02  -1.4 1.00e+00 2.50e-01h  3\n",
      " 187  2.7768887e-02 5.10e-06 6.02e+01  -4.0 2.23e-02  -1.0 1.00e+00 2.50e-01f  3\n",
      " 188  2.7282665e-02 5.11e-06 8.94e+01  -4.0 2.67e-02  -1.4 1.00e+00 1.25e-01f  4\n",
      " 189  2.3659039e-02 5.44e-06 5.35e+01  -4.0 3.72e-01  -1.0 1.00e+00 7.81e-03f  8\n",
      "iter    objective    inf_pr   inf_du lg(mu)  ||d||  lg(rg) alpha_du alpha_pr  ls\n",
      " 190  2.3167370e-02 5.24e-06 9.21e+01  -4.0 2.62e-02  -1.5 1.00e+00 6.25e-02h  5\n",
      " 191  2.1877125e-02 5.24e-06 5.05e+01  -4.0 1.59e-01  -1.1 1.00e+00 3.91e-03f  9\n",
      " 192  2.6994391e-02 5.10e-06 9.80e+01  -4.0 2.99e-02  -1.5 1.00e+00 1.25e-01h  4\n",
      " 193  2.6313248e-02 5.21e-06 5.03e+01  -4.0 5.52e-02  -1.1 1.00e+00 6.25e-02f  5\n",
      " 194  2.4447414e-02 5.39e-06 9.81e+01  -4.1 3.36e-02  -1.6 1.00e+00 1.25e-01f  4\n"
     ]
    },
    {
     "ename": "CompositeException",
     "evalue": "TaskFailedException\n\n    nested task error: InterruptException:",
     "output_type": "error",
     "traceback": [
      "TaskFailedException\n",
      "\n",
      "    nested task error: InterruptException:\n",
      "\n",
      "Stacktrace:\n",
      "  [1] threading_run(fun::DirectTrajOpt.Dynamics.var\"#116#threadsfor_fun#11\"{DirectTrajOpt.Dynamics.var\"#116#threadsfor_fun#3#12\"{SubArray{Float64, 1, Vector{Float64}, Tuple{UnitRange{Int64}}, true}, Vector{Float64}, UnitRange{Int64}, BilinearIntegrator{QuantumCollocation.QuantumIntegrators.var\"#1#2\"{QuantumSystem{PiccoloQuantumObjects.QuantumSystems.var\"#50#61\"{SparseMatrixCSC{ComplexF64, Int64}, Vector{SparseMatrixCSC{ComplexF64, Int64}}}, PiccoloQuantumObjects.QuantumSystems.var\"#11#20\"{PiccoloQuantumObjects.QuantumSystems.var\"#50#61\"{SparseMatrixCSC{ComplexF64, Int64}, Vector{SparseMatrixCSC{ComplexF64, Int64}}}}}}}, UnitRange{Int64}, NamedTrajectory{Float64, (:Ũ⃗, :a, :da, :dda, :Δt), NTuple{5, Int64}, (:a, :da, :dda, :Δt), NTuple{4, Tuple{Vector{Float64}, Vector{Float64}}}, (:Ũ⃗, :a), Tuple{Vector{Float64}, Vector{Float64}}, (:a,), Tuple{Vector{Float64}}, (:Ũ⃗,), Tuple{Vector{Float64}}, (:Ũ⃗, :a, :da, :dda, :Δt), NTuple{5, UnitRange{Int64}}, NTuple{5, Symbol}, Tuple{Symbol, Symbol, Symbol}, Tuple{Symbol, Symbol}, (), Tuple{}, (), Tuple{}, Tuple{}}, Int64}}, static::Bool)\n",
      "    @ Base.Threads ./threadingconstructs.jl:173\n",
      "  [2] macro expansion\n",
      "    @ ./threadingconstructs.jl:190 [inlined]\n",
      "  [3] (::DirectTrajOpt.Dynamics.var\"#F!#10\"{Vector{AbstractIntegrator}, NamedTrajectory{Float64, (:Ũ⃗, :a, :da, :dda, :Δt), NTuple{5, Int64}, (:a, :da, :dda, :Δt), NTuple{4, Tuple{Vector{Float64}, Vector{Float64}}}, (:Ũ⃗, :a), Tuple{Vector{Float64}, Vector{Float64}}, (:a,), Tuple{Vector{Float64}}, (:Ũ⃗,), Tuple{Vector{Float64}}, (:Ũ⃗, :a, :da, :dda, :Δt), NTuple{5, UnitRange{Int64}}, NTuple{5, Symbol}, Tuple{Symbol, Symbol, Symbol}, Tuple{Symbol, Symbol}, (), Tuple{}, (), Tuple{}, Tuple{}}, Vector{Any}, Int64})(δ::SubArray{Float64, 1, Vector{Float64}, Tuple{UnitRange{Int64}}, true}, Z⃗::Vector{Float64})\n",
      "    @ DirectTrajOpt.Dynamics ~/.julia/packages/DirectTrajOpt/gStTJ/src/dynamics.jl:123\n",
      "  [4] eval_constraint(evaluator::IpoptEvaluator, g::SubArray{Float64, 1, Vector{Float64}, Tuple{UnitRange{Int64}}, true}, Z⃗::Vector{Float64})\n",
      "    @ DirectTrajOpt.IpoptSolverExt ~/.julia/packages/DirectTrajOpt/gStTJ/src/solvers/ipopt_solver/evaluator.jl:122\n",
      "  [5] eval_constraint(model::IpoptMathOptInterfaceExt.Optimizer, g::Vector{Float64}, x::Vector{Float64})\n",
      "    @ IpoptMathOptInterfaceExt ~/.julia/packages/Ipopt/nzOsV/ext/IpoptMathOptInterfaceExt/MOI_wrapper.jl:1213\n",
      "  [6] (::IpoptMathOptInterfaceExt.var\"#eval_g_cb#9\"{IpoptMathOptInterfaceExt.Optimizer})(x::Vector{Float64}, g::Vector{Float64})\n",
      "    @ IpoptMathOptInterfaceExt ~/.julia/packages/Ipopt/nzOsV/ext/IpoptMathOptInterfaceExt/MOI_wrapper.jl:1394\n",
      "  [7] _Eval_G_CB(n::Int32, x_ptr::Ptr{Float64}, x_new::Int32, m::Int32, g_ptr::Ptr{Float64}, user_data::Ptr{Nothing})\n",
      "    @ Ipopt ~/.julia/packages/Ipopt/nzOsV/src/C_wrapper.jl:74\n",
      "  [8] #5\n",
      "    @ ~/.julia/packages/Ipopt/nzOsV/src/C_wrapper.jl:407 [inlined]\n",
      "  [9] disable_sigint(f::Ipopt.var\"#5#6\"{Ipopt.IpoptProblem, Base.RefValue{Float64}})\n",
      "    @ Base ./c.jl:167\n",
      " [10] IpoptSolve\n",
      "    @ ~/.julia/packages/Ipopt/nzOsV/src/C_wrapper.jl:406 [inlined]\n",
      " [11] optimize!(model::IpoptMathOptInterfaceExt.Optimizer)\n",
      "    @ IpoptMathOptInterfaceExt ~/.julia/packages/Ipopt/nzOsV/ext/IpoptMathOptInterfaceExt/MOI_wrapper.jl:1553\n",
      " [12] solve!(prob::DirectTrajOptProblem; options::IpoptOptions{Float64}, max_iter::Int64, verbose::Bool, linear_solver::String, print_level::Int64, callback::Nothing)\n",
      "    @ DirectTrajOpt.IpoptSolverExt ~/.julia/packages/DirectTrajOpt/gStTJ/src/solvers/ipopt_solver/solver.jl:46\n",
      " [13] top-level scope\n",
      "    @ ~/Documents/research/pulses/project/notebooks/src/jl_notebook_cell_df34fa98e69747e1a8f8a730347b8e2f_X11sZmlsZQ==.jl:22"
     ]
    }
   ],
   "source": [
    "Random.seed!(5)\n",
    "\n",
    "#Adjoint\n",
    "∂ₑHₐ = PAULIS.X\n",
    "varsys_add = VariationalQuantumSystem(\n",
    "    H_drive,\n",
    "    [PAULIS.X, PAULIS.Y, PAULIS.Z]\n",
    ")\n",
    "\n",
    "\n",
    "\n",
    "ftog_prob = UnitaryToggleProblem(\n",
    "    varsys_add, U_goal, T, Δt;\n",
    "                    a_bound=4.0,\n",
    "                    dda_bound=2.0,\n",
    "                    Δt_max=Δt,\n",
    "                    Δt_min=Δt,\n",
    "                    piccolo_options=piccolo_opts,\n",
    "                    Q_t=1.0\n",
    "                )\n",
    "\n",
    "solve!(ftog_prob, max_iter=200, print_level=5)\n",
    "\n",
    "\n",
    "var_prob = UnitaryVariationalProblem(\n",
    "        varsys_add, U_goal, T, Δt;\n",
    "        robust_times=[[T], [T], [T]],\n",
    "        a_bound=4.0,\n",
    "        Δt_max=Δt,\n",
    "        Δt_min=Δt,\n",
    "        dda_bound = 2.0,\n",
    "        piccolo_options=piccolo_opts\n",
    "    )\n",
    "\n",
    "solve!(var_prob, max_iter=200, print_level=5)\n",
    "\n",
    "#Default\n",
    "def = UnitarySmoothPulseProblem(sys, U_goal, T, Δt; Q_t=1.0)\n",
    "# solve!(def, max_iter=500, print_level=1, options=IpoptOptions(eval_hessian=false))\n",
    "solve!(def, max_iter=150, print_level=5)\n"
   ]
  },
  {
   "cell_type": "code",
   "execution_count": 7,
   "metadata": {},
   "outputs": [
    {
     "ename": "UndefVarError",
     "evalue": "UndefVarError: `def` not defined in `Main`\nSuggestion: check for spelling errors or missing imports.\nHint: a global variable of this name may be made accessible by importing IntervalArithmetic in the current active module Main",
     "output_type": "error",
     "traceback": [
      "UndefVarError: `def` not defined in `Main`\n",
      "Suggestion: check for spelling errors or missing imports.\n",
      "Hint: a global variable of this name may be made accessible by importing IntervalArithmetic in the current active module Main\n",
      "\n",
      "Stacktrace:\n",
      " [1] top-level scope\n",
      "   @ ~/Documents/research/pulses/project/notebooks/src/jl_notebook_cell_df34fa98e69747e1a8f8a730347b8e2f_X12sZmlsZQ==.jl:1"
     ]
    }
   ],
   "source": [
    "display(CairoMakie.plot(def.trajectory, [:Ũ⃗, :a, :da, :dda]))\n",
    "display(CairoMakie.plot(var_prob.trajectory, [:Ũ⃗, :a]))\n",
    "display(CairoMakie.plot(tog_prob.trajectory, [:Ũ⃗, :a]))\n",
    "display(CairoMakie.plot(ftog_prob.trajectory, [:Ũ⃗, :a]))"
   ]
  },
  {
   "cell_type": "code",
   "execution_count": 8,
   "metadata": {},
   "outputs": [
    {
     "ename": "UndefVarError",
     "evalue": "UndefVarError: `var_prob` not defined in `Main`\nSuggestion: check for spelling errors or missing imports.",
     "output_type": "error",
     "traceback": [
      "UndefVarError: `var_prob` not defined in `Main`\n",
      "Suggestion: check for spelling errors or missing imports.\n",
      "\n",
      "Stacktrace:\n",
      " [1] top-level scope\n",
      "   @ ~/Documents/research/pulses/project/notebooks/src/jl_notebook_cell_df34fa98e69747e1a8f8a730347b8e2f_X13sZmlsZQ==.jl:1"
     ]
    }
   ],
   "source": [
    "var_prob.trajectory.Δt[1], var_prob.trajectory.Δt[end ÷ 2]"
   ]
  },
  {
   "cell_type": "code",
   "execution_count": 9,
   "metadata": {},
   "outputs": [
    {
     "ename": "UndefVarError",
     "evalue": "UndefVarError: `def` not defined in `Main`\nSuggestion: check for spelling errors or missing imports.\nHint: a global variable of this name may be made accessible by importing IntervalArithmetic in the current active module Main",
     "output_type": "error",
     "traceback": [
      "UndefVarError: `def` not defined in `Main`\n",
      "Suggestion: check for spelling errors or missing imports.\n",
      "Hint: a global variable of this name may be made accessible by importing IntervalArithmetic in the current active module Main\n",
      "\n",
      "Stacktrace:\n",
      " [1] top-level scope\n",
      "   @ ~/Documents/research/pulses/project/notebooks/src/jl_notebook_cell_df34fa98e69747e1a8f8a730347b8e2f_X14sZmlsZQ==.jl:19"
     ]
    }
   ],
   "source": [
    "H_drive_add = H_drive\n",
    "\n",
    "f = Figure()\n",
    "axX = Axis(f[1, 1], title = \"X\")\n",
    "axY = Axis(f[2, 1], title = \"Y\")\n",
    "axZ = Axis(f[3, 1], title = \"Z\")\n",
    "\n",
    "colors = Makie.wong_colors()\n",
    "εs = -0.5:0.001:0.5\n",
    "\n",
    "basis = [PAULIS.X, PAULIS.Y, PAULIS.Z]\n",
    "\n",
    "axes_paulis = [\n",
    "    (axX, PAULIS.X),\n",
    "    (axY, PAULIS.Y),\n",
    "    (axZ, PAULIS.Z),\n",
    "]\n",
    "\n",
    "problems = [\n",
    "    (def,        \"default\"),\n",
    "    (var_prob, \"adjoint\"),\n",
    "    (ftog_prob, \"fast tog\"),\n",
    "]\n",
    "\n",
    "# Helper to compute the curve once per (problem, Pauli)\n",
    "fidelity_curve(prob, pauli) = [unitary_rollout_fidelity(prob.trajectory, QuantumSystem(ε * pauli, basis)) for ε in εs]\n",
    "\n",
    "# Plot everything with two compact loops\n",
    "for (ax, pauli) in axes_paulis\n",
    "    for (i, (prob, label)) in enumerate(problems)\n",
    "        ys = fidelity_curve(prob, pauli)\n",
    "        lines!(ax, εs, ys; label = label, color = colors[i], linestyle = :solid)\n",
    "    end\n",
    "end\n",
    "\n",
    "Legend(f[1, 2], axX, position = :lb)\n",
    "Legend(f[2, 2], axY, position = :lb)\n",
    "Legend(f[3, 2], axZ, position = :lb)\n",
    "\n",
    "f\n"
   ]
  },
  {
   "cell_type": "markdown",
   "metadata": {},
   "source": [
    "# Verify first-order robustness with space curve approach"
   ]
  },
  {
   "cell_type": "code",
   "execution_count": 10,
   "metadata": {},
   "outputs": [
    {
     "ename": "UndefVarError",
     "evalue": "UndefVarError: `var_prob` not defined in `Main`\nSuggestion: check for spelling errors or missing imports.",
     "output_type": "error",
     "traceback": [
      "UndefVarError: `var_prob` not defined in `Main`\n",
      "Suggestion: check for spelling errors or missing imports.\n",
      "\n",
      "Stacktrace:\n",
      " [1] top-level scope\n",
      "   @ ~/Documents/research/pulses/project/notebooks/src/jl_notebook_cell_df34fa98e69747e1a8f8a730347b8e2f_X16sZmlsZQ==.jl:1"
     ]
    }
   ],
   "source": [
    "var_prob.trajectory\n",
    "ftog_prob.trajectory"
   ]
  },
  {
   "cell_type": "code",
   "execution_count": 11,
   "metadata": {},
   "outputs": [
    {
     "ename": "UndefVarError",
     "evalue": "UndefVarError: `var_prob` not defined in `Main`\nSuggestion: check for spelling errors or missing imports.",
     "output_type": "error",
     "traceback": [
      "UndefVarError: `var_prob` not defined in `Main`\n",
      "Suggestion: check for spelling errors or missing imports.\n",
      "\n",
      "Stacktrace:\n",
      " [1] top-level scope\n",
      "   @ ~/Documents/research/pulses/project/notebooks/src/jl_notebook_cell_df34fa98e69747e1a8f8a730347b8e2f_X20sZmlsZQ==.jl:3"
     ]
    }
   ],
   "source": [
    "using NamedTrajectories\n",
    "\n",
    "var_traj = var_prob.trajectory\n",
    "default_traj = def.trajectory\n",
    "ftog_traj = ftog_prob.trajectory\n",
    "\n",
    "function SpaceCurve(traj::NamedTrajectory, U_goal::AbstractMatrix{<:Number}, H_err::AbstractMatrix{<:Number})\n",
    "    T = traj.T\n",
    "    first_order_terms = Vector{Matrix{ComplexF64}}(undef, T)\n",
    "    first_order_integral = zeros(ComplexF64, size(U_goal))\n",
    "\n",
    "    for i in 1:T\n",
    "        U = iso_vec_to_operator(traj.Ũ⃗[:, i])\n",
    "        first_order_integral += U' * Hₑ * U\n",
    "        first_order_terms[i] = first_order_integral\n",
    "    end\n",
    "    space_curve = [[real(tr(PAULIS.X * first_order_terms[t])),\n",
    "                    real(tr(PAULIS.Y * first_order_terms[t])),\n",
    "                    real(tr(PAULIS.Z * first_order_terms[t]))] for t in 1:T] \n",
    "    return space_curve\n",
    "end"
   ]
  },
  {
   "cell_type": "code",
   "execution_count": 12,
   "metadata": {},
   "outputs": [
    {
     "data": {
      "text/plain": [
       "2×2 Matrix{ComplexF64}:\n",
       " 0.0+0.0im  1.0+0.0im\n",
       " 1.0+0.0im  0.0+0.0im"
      ]
     },
     "metadata": {},
     "output_type": "display_data"
    }
   ],
   "source": [
    "Hₑ = PAULIS.X"
   ]
  },
  {
   "cell_type": "code",
   "execution_count": 13,
   "metadata": {},
   "outputs": [
    {
     "ename": "UndefVarError",
     "evalue": "UndefVarError: `SpaceCurve` not defined in `Main`\nSuggestion: check for spelling errors or missing imports.",
     "output_type": "error",
     "traceback": [
      "UndefVarError: `SpaceCurve` not defined in `Main`\n",
      "Suggestion: check for spelling errors or missing imports.\n",
      "\n",
      "Stacktrace:\n",
      " [1] top-level scope\n",
      "   @ ~/Documents/research/pulses/project/notebooks/src/jl_notebook_cell_df34fa98e69747e1a8f8a730347b8e2f_X22sZmlsZQ==.jl:1"
     ]
    }
   ],
   "source": [
    "var_curve = SpaceCurve(var_traj, U_goal, Hₑ)\n",
    "ftog_curve = SpaceCurve(ftog_traj, U_goal, Hₑ)\n",
    "default_curve = SpaceCurve(default_traj, U_goal, Hₑ)"
   ]
  },
  {
   "cell_type": "code",
   "execution_count": 14,
   "metadata": {},
   "outputs": [
    {
     "ename": "UndefVarError",
     "evalue": "UndefVarError: `SpaceCurve` not defined in `Main`\nSuggestion: check for spelling errors or missing imports.",
     "output_type": "error",
     "traceback": [
      "UndefVarError: `SpaceCurve` not defined in `Main`\n",
      "Suggestion: check for spelling errors or missing imports.\n",
      "\n",
      "Stacktrace:\n",
      " [1] top-level scope\n",
      "   @ ~/Documents/research/pulses/project/notebooks/src/jl_notebook_cell_df34fa98e69747e1a8f8a730347b8e2f_X23sZmlsZQ==.jl:25"
     ]
    }
   ],
   "source": [
    "using CairoMakie\n",
    "const CM = CairoMakie\n",
    "\n",
    "function to_xyz(curve)\n",
    "    if curve isa AbstractMatrix\n",
    "        M = Float64.(real.(curve))\n",
    "        if size(M, 2) == 3\n",
    "            x, y, z = M[:, 1], M[:, 2], M[:, 3]\n",
    "        elseif size(M, 1) == 3\n",
    "            x, y, z = M[1, :], M[2, :], M[3, :]\n",
    "        else\n",
    "            error(\"Matrix curve must be T×3 or 3×T, got $(size(M))\")\n",
    "        end\n",
    "    else\n",
    "        x = Float64.(real.(getindex.(curve, 1)))\n",
    "        y = Float64.(real.(getindex.(curve, 2)))\n",
    "        z = Float64.(real.(getindex.(curve, 3)))\n",
    "    end\n",
    "    mask = isfinite.(x) .& isfinite.(y) .& isfinite.(z)\n",
    "    return x[mask], y[mask], z[mask]\n",
    "end\n",
    "\n",
    "Hₑ = PAULIS.X\n",
    "\n",
    "ftog_curve     = SpaceCurve(ftog_traj, U_goal, Hₑ)\n",
    "var_curve     = SpaceCurve(var_traj, U_goal, Hₑ)\n",
    "default_curve = SpaceCurve(default_traj, U_goal, Hₑ)\n",
    "\n",
    "x3, y3, z3 = to_xyz(ftog_curve)\n",
    "x1, y1, z1 = to_xyz(var_curve)\n",
    "x2, y2, z2 = to_xyz(default_curve)\n",
    "\n",
    "pushfirst!(x1, 0.0)\n",
    "pushfirst!(y1, 0.0)\n",
    "pushfirst!(z1, 0.0)\n",
    "pushfirst!(x2, 0.0)\n",
    "pushfirst!(y2, 0.0)\n",
    "pushfirst!(z2, 0.0)\n",
    "pushfirst!(x3, 0.0)\n",
    "pushfirst!(y3, 0.0)\n",
    "pushfirst!(z3, 0.0)\n",
    "\n",
    "f  = CM.Figure(size = (900, 650))\n",
    "ax = CM.Axis3(f[1, 1];\n",
    "    xlabel = \"X\", ylabel = \"Y\", zlabel = \"Z\",\n",
    "    title = \"Space Curve Quantum Control\", aspect = :data\n",
    ")\n",
    "\n",
    "CM.lines!(ax, x1, y1, z1; linewidth = 2.5, color = :dodgerblue, label = \"universal\")\n",
    "CM.lines!(ax, x2, y2, z2; linewidth = 2.5, linestyle = :dash, color = :tomato, label = \"default\")\n",
    "CM.lines!(ax, x3, y3, z3; linewidth = 2.5, linestyle = :dash, color = :darkgreen, label = \"default\")\n",
    "\n",
    "CM.scatter!(ax, [x1[1]],  [y1[1]],  [z1[1]];  markersize = 10, color = :dodgerblue)\n",
    "CM.scatter!(ax, [x1[end]],[y1[end]],[z1[end]]; markersize = 10, color = :dodgerblue)\n",
    "CM.scatter!(ax, [x2[1]],  [y2[1]],  [z2[1]];  markersize = 10, color = :tomato)\n",
    "CM.scatter!(ax, [x2[end]],[y2[end]],[z2[end]]; markersize = 10, color = :tomato)\n",
    "CM.scatter!(ax, [x3[1]],  [y3[1]],  [z3[1]];  markersize = 10, color = :darkgreen)\n",
    "CM.scatter!(ax, [x3[end]],[y3[end]],[z3[end]]; markersize = 10, color = :darkgreen)\n",
    "\n",
    "CM.axislegend(ax; position = :rb)\n",
    "\n",
    "display(f)\n",
    "\n",
    "     "
   ]
  },
  {
   "cell_type": "code",
   "execution_count": 15,
   "metadata": {},
   "outputs": [
    {
     "ename": "UndefVarError",
     "evalue": "UndefVarError: `SpaceCurve` not defined in `Main`\nSuggestion: check for spelling errors or missing imports.",
     "output_type": "error",
     "traceback": [
      "UndefVarError: `SpaceCurve` not defined in `Main`\n",
      "Suggestion: check for spelling errors or missing imports.\n",
      "\n",
      "Stacktrace:\n",
      " [1] (::var\"#19#20\"{Matrix{ComplexF64}})(spec::@NamedTuple{name::String, traj::var\"#13#16\", linecolor::Symbol, linestyle::Symbol, startcolor::Symbol, endcolor::Symbol})\n",
      "   @ Main ./none:0\n",
      " [2] iterate\n",
      "   @ ./generator.jl:48 [inlined]\n",
      " [3] collect(itr::Base.Generator{Vector{NamedTuple{(:name, :traj, :linecolor, :linestyle, :startcolor, :endcolor)}}, var\"#19#20\"{Matrix{ComplexF64}}})\n",
      "   @ Base ./array.jl:791\n",
      " [4] curves_for\n",
      "   @ ~/Documents/research/pulses/project/notebooks/src/jl_notebook_cell_df34fa98e69747e1a8f8a730347b8e2f_X24sZmlsZQ==.jl:24 [inlined]\n",
      " [5] plot_pair!(pos::GridPosition, Hₑ_sym::Matrix{ComplexF64}, ttl::String)\n",
      "   @ Main ~/Documents/research/pulses/project/notebooks/src/jl_notebook_cell_df34fa98e69747e1a8f8a730347b8e2f_X24sZmlsZQ==.jl:40\n",
      " [6] top-level scope\n",
      "   @ ~/Documents/research/pulses/project/notebooks/src/jl_notebook_cell_df34fa98e69747e1a8f8a730347b8e2f_X24sZmlsZQ==.jl:57"
     ]
    }
   ],
   "source": [
    "using CairoMakie\n",
    "const CM = CairoMakie\n",
    "\n",
    "# --- helpers ---------------------------------------------------------------\n",
    "\n",
    "# Prepend the origin to each coordinate vector\n",
    "prepend_origin!(xs...) = (foreach(v -> pushfirst!(v, 0.0), xs); nothing)\n",
    "\n",
    "# Define CURVE_SPECS once, then mutate it on reruns to avoid the const redefinition warning\n",
    "if !@isdefined CURVE_SPECS\n",
    "    const CURVE_SPECS = NamedTuple{(:name,:traj,:linecolor,:linestyle,:startcolor,:endcolor)}[]\n",
    "end\n",
    "empty!(CURVE_SPECS)\n",
    "append!(CURVE_SPECS, [\n",
    "    (name = \"variational\",       traj = () -> var_traj,    linecolor = :dodgerblue,  linestyle = :solid, startcolor = :dodgerblue,  endcolor = :dodgerblue),\n",
    "    (name = \"default\",         traj = () -> default_traj,linecolor = :tomato,      linestyle = :dash,  startcolor = :tomato,      endcolor = :tomato),\n",
    "    (name = \"fast toggle\",  traj = () -> ftog_traj,  linecolor = :darkgreen, linestyle = :dash,  startcolor = :darkgreen, endcolor = :darkgreen),\n",
    "    # (name = \"toggle\", traj = () -> tog_traj,  linecolor = :darkorchid4,      linestyle = :solid,  startcolor = :darkorchid4,      endcolor = :darkorchid4),\n",
    "])\n",
    "\n",
    "# Build SpaceCurve objects for a given Hₑ (also set the global Hₑ used elsewhere)\n",
    "function curves_for(Hₑ_sym)\n",
    "    global Hₑ = Hₑ_sym  # required because SpaceCurve (or other code) reads global Hₑ\n",
    "    return [\n",
    "        (label = spec.name,\n",
    "         curve = SpaceCurve(spec.traj(), U_goal, Hₑ_sym),\n",
    "         linecolor = spec.linecolor,\n",
    "         linestyle = spec.linestyle,\n",
    "         startcolor = spec.startcolor,\n",
    "         endcolor   = spec.endcolor)\n",
    "        for spec in CURVE_SPECS\n",
    "    ]\n",
    "end\n",
    "\n",
    "# --- plotting --------------------------------------------------------------\n",
    "\n",
    "function plot_pair!(pos, Hₑ_sym, ttl)\n",
    "    ax = CM.Axis3(pos; xlabel = \"X\", ylabel = \"Y\", zlabel = \"Z\", title = ttl, aspect = :data)\n",
    "\n",
    "    for spec in curves_for(Hₑ_sym)\n",
    "        x, y, z = to_xyz(spec.curve)\n",
    "        prepend_origin!(x, y, z)\n",
    "\n",
    "        CM.lines!(ax, x, y, z; linewidth = 2.5, color = spec.linecolor, linestyle = spec.linestyle, label = spec.label)\n",
    "        CM.scatter!(ax, [first(x)], [first(y)], [first(z)]; markersize = 10, color = spec.startcolor)\n",
    "        CM.scatter!(ax, [last(x)],  [last(y)],  [last(z)];  markersize = 10, color = spec.endcolor)\n",
    "    end\n",
    "\n",
    "    CM.axislegend(ax; position = :rt)\n",
    "    return ax\n",
    "end\n",
    "\n",
    "# --- figure ---------------------------------------------------------------\n",
    "\n",
    "f = CM.Figure(size = (1400, 500))\n",
    "for (i, (Hₑ, tag)) in enumerate(((PAULIS.X, \"X\"), (PAULIS.Y, \"Y\"), (PAULIS.Z, \"Z\")))\n",
    "    plot_pair!(f[1, i], Hₑ, \"Hₑ = $tag\")\n",
    "end\n",
    "display(f)\n"
   ]
  },
  {
   "cell_type": "code",
   "execution_count": 16,
   "metadata": {},
   "outputs": [
    {
     "ename": "UndefVarError",
     "evalue": "UndefVarError: `var_traj` not defined in `Main`\nSuggestion: check for spelling errors or missing imports.",
     "output_type": "error",
     "traceback": [
      "UndefVarError: `var_traj` not defined in `Main`\n",
      "Suggestion: check for spelling errors or missing imports.\n",
      "\n",
      "Stacktrace:\n",
      " [1] top-level scope\n",
      "   @ ~/Documents/research/pulses/project/notebooks/src/jl_notebook_cell_df34fa98e69747e1a8f8a730347b8e2f_X25sZmlsZQ==.jl:5"
     ]
    }
   ],
   "source": [
    "ket_0 = [1.0,0.0]\n",
    "\n",
    "rho_0 = ket_0 * ket_0'\n",
    "\n",
    "expect_val_x = [real(tr(PAULIS.X * iso_vec_to_operator(var_traj.Ũ⃗[:, t]) * rho_0 * iso_vec_to_operator(var_traj.Ũ⃗[:, t])')) for t in 1:var_traj.T]\n",
    "expect_val_y = [real(tr(PAULIS.Y * iso_vec_to_operator(var_traj.Ũ⃗[:, t]) * rho_0 * iso_vec_to_operator(var_traj.Ũ⃗[:, t])')) for t in 1:var_traj.T]\n",
    "expect_val_z = [real(tr(PAULIS.Z * iso_vec_to_operator(var_traj.Ũ⃗[:, t]) * rho_0 * iso_vec_to_operator(var_traj.Ũ⃗[:, t])')) for t in 1:var_traj.T]\n",
    "expect_val_x_1 = [real(tr(PAULIS.X * iso_vec_to_operator(default_traj.Ũ⃗[:, t]) * rho_0 * iso_vec_to_operator(default_traj.Ũ⃗[:, t])')) for t in 1:default_traj.T]\n",
    "expect_val_y_1 = [real(tr(PAULIS.Y * iso_vec_to_operator(default_traj.Ũ⃗[:, t]) * rho_0 * iso_vec_to_operator(default_traj.Ũ⃗[:, t])')) for t in 1:default_traj.T]\n",
    "expect_val_z_1 = [real(tr(PAULIS.Z * iso_vec_to_operator(default_traj.Ũ⃗[:, t]) * rho_0 * iso_vec_to_operator(default_traj.Ũ⃗[:, t])')) for t in 1:default_traj.T]\n",
    "\n",
    "     "
   ]
  },
  {
   "cell_type": "code",
   "execution_count": 17,
   "metadata": {},
   "outputs": [
    {
     "name": "stderr",
     "output_type": "stream",
     "text": [
      "┌ Warning: Found `resolution` in the theme when creating a `Scene`. The `resolution` keyword for `Scene`s and `Figure`s has been deprecated. Use `Figure(; size = ...` or `Scene(; size = ...)` instead, which better reflects that this is a unitless size and not a pixel resolution. The key could also come from `set_theme!` calls or related theming functions.\n",
      "└ @ Makie /Users/samafine1/.julia/packages/Makie/FUAHr/src/scenes.jl:238\n"
     ]
    },
    {
     "ename": "UndefVarError",
     "evalue": "UndefVarError: `expect_val_x` not defined in `Main`\nSuggestion: check for spelling errors or missing imports.",
     "output_type": "error",
     "traceback": [
      "UndefVarError: `expect_val_x` not defined in `Main`\n",
      "Suggestion: check for spelling errors or missing imports.\n",
      "\n",
      "Stacktrace:\n",
      " [1] top-level scope\n",
      "   @ ~/Documents/research/pulses/project/notebooks/src/jl_notebook_cell_df34fa98e69747e1a8f8a730347b8e2f_X26sZmlsZQ==.jl:25"
     ]
    }
   ],
   "source": [
    "using CairoMakie\n",
    "using GeometryBasics\n",
    "\n",
    "f  = CairoMakie.Figure(resolution = (800, 600))\n",
    "ax = CairoMakie.Axis3(f[1, 1];\n",
    "    aspect = :equal\n",
    ")\n",
    "\n",
    "palette = to_colormap(:tab10)\n",
    "styles  = (:solid, :dash, :dot, :dashdot)\n",
    "\n",
    "origins = [Point3f(0,0,0), Point3f(0,0,0), Point3f(0,0,0)]\n",
    "dirs    = [Vec3f(1.0,0,0), Vec3f(0,1.0,0), Vec3f(0,0,1.0)]\n",
    "\n",
    "CairoMakie.arrows!(ax, origins, dirs;\n",
    "    color = [:red, :green, :blue],\n",
    "    arrowsize = 0.05,\n",
    "    linewidth = 0.01\n",
    ")\n",
    "\n",
    "CairoMakie.text!(ax, \"x\", position = Point3f(1.2, 0, 0), align = (:left, :center),  color = :red,   fontsize = 28)\n",
    "CairoMakie.text!(ax, \"y\", position = Point3f(0, 1.2, 0), align = (:center, :bottom), color = :green, fontsize = 28)\n",
    "CairoMakie.text!(ax, \"z\", position = Point3f(0, 0, 1.2), align = (:center, :bottom), color = :blue,  fontsize = 28)\n",
    "\n",
    "CairoMakie.lines!(ax, real.(expect_val_x), real.(expect_val_y), real.(expect_val_z);\n",
    "    color     = palette[1],\n",
    "    linestyle = styles[1],\n",
    "    label     = \"|0⟩ to |+⟩, default\",\n",
    "    linewidth = 1.5\n",
    ")\n",
    "\n",
    "CairoMakie.lines!(ax, real.(expect_val_x_1), real.(expect_val_y_1), real.(expect_val_z_1);\n",
    "    color     = palette[2],\n",
    "    linestyle = styles[1],\n",
    "    label     = \"|0⟩ to |+⟩, robust\",\n",
    "    linewidth = 1.5\n",
    ")\n",
    "\n",
    "CairoMakie.scatter!(ax, [real(expect_val_x[end])], [real(expect_val_y[end])], [real(expect_val_z[end])];\n",
    "    color = palette[1], markersize = 20, marker = :xcross)\n",
    "\n",
    "CairoMakie.scatter!(ax, [real(expect_val_x_1[end])], [real(expect_val_y_1[end])], [real(expect_val_z_1[end])];\n",
    "    color = palette[2], markersize = 15, marker = :circle)\n",
    "\n",
    "CairoMakie.mesh!(ax, Sphere(Point3f(0,0,0), 1f0);\n",
    "    color = (0.2, 0.6, 1.0, 0.05),\n",
    "    transparency = true,\n",
    "    shading = true\n",
    ")\n",
    "\n",
    "CairoMakie.xlims!(ax, -1.3, 1.3)\n",
    "CairoMakie.ylims!(ax, -1.3, 1.3)\n",
    "CairoMakie.zlims!(ax, -1.3, 1.3)\n",
    "\n",
    "ax.azimuth[]   =  π/4\n",
    "ax.elevation[] =  π/6\n",
    "\n",
    "CairoMakie.axislegend(ax; position = :rt)\n",
    "CairoMakie.hidexdecorations!(ax, grid = false)\n",
    "CairoMakie.hideydecorations!(ax, grid = false)\n",
    "CairoMakie.hidezdecorations!(ax, grid = false)\n",
    "\n",
    "f\n",
    "     "
   ]
  },
  {
   "cell_type": "markdown",
   "metadata": {},
   "source": [
    "check variational objective"
   ]
  },
  {
   "cell_type": "code",
   "execution_count": 18,
   "metadata": {},
   "outputs": [
    {
     "data": {
      "text/plain": [
       "var_obj (generic function with 1 method)"
      ]
     },
     "metadata": {},
     "output_type": "display_data"
    }
   ],
   "source": [
    "function var_obj(\n",
    "    traj::NamedTrajectory, \n",
    "    H_drives::Vector{Matrix{ComplexF64}}, \n",
    "    H_errors::Vector{Matrix{ComplexF64}}\n",
    ")\n",
    "    Δt = traj.Δt[1]\n",
    "    varsys = VariationalQuantumSystem(H_drives, H_errors)\n",
    "    Ũ⃗, ∂Ũ⃗ = variational_unitary_rollout(traj, varsys)\n",
    "\n",
    "    U = iso_vec_to_operator(Ũ⃗[:, end])\n",
    "    # First error term\n",
    "    ∂U = iso_vec_to_operator(∂Ũ⃗[1][:, end])\n",
    "\n",
    "    d = size(U, 1)\n",
    "    return abs(tr((U'*∂U)'*(U'*∂U))) / (T * Δt)^2 / d\n",
    "end"
   ]
  },
  {
   "cell_type": "code",
   "execution_count": 19,
   "metadata": {},
   "outputs": [
    {
     "ename": "UndefVarError",
     "evalue": "UndefVarError: `def` not defined in `Main`\nSuggestion: check for spelling errors or missing imports.\nHint: a global variable of this name may be made accessible by importing IntervalArithmetic in the current active module Main",
     "output_type": "error",
     "traceback": [
      "UndefVarError: `def` not defined in `Main`\n",
      "Suggestion: check for spelling errors or missing imports.\n",
      "Hint: a global variable of this name may be made accessible by importing IntervalArithmetic in the current active module Main\n",
      "\n",
      "Stacktrace:\n",
      " [1] top-level scope\n",
      "   @ ~/Documents/research/pulses/project/notebooks/src/jl_notebook_cell_df34fa98e69747e1a8f8a730347b8e2f_X32sZmlsZQ==.jl:5"
     ]
    }
   ],
   "source": [
    "∂ₑH = [PAULIS.X, PAULIS.Y, PAULIS.Z]\n",
    "H_drives = [PAULIS.X, PAULIS.Y, PAULIS.Z]\n",
    "error_ops = [PAULIS.X, PAULIS.Y, PAULIS.Z]\n",
    "\n",
    "J_var = var_obj(def.trajectory, H_drives, error_ops)"
   ]
  },
  {
   "cell_type": "code",
   "execution_count": 20,
   "metadata": {},
   "outputs": [
    {
     "data": {
      "text/plain": [
       "0.017989246702694733"
      ]
     },
     "metadata": {},
     "output_type": "display_data"
    }
   ],
   "source": [
    "J_var = var_obj(ftog_prob.trajectory, H_drives, error_ops)"
   ]
  },
  {
   "cell_type": "code",
   "execution_count": 21,
   "metadata": {},
   "outputs": [
    {
     "ename": "UndefVarError",
     "evalue": "UndefVarError: `var_prob` not defined in `Main`\nSuggestion: check for spelling errors or missing imports.",
     "output_type": "error",
     "traceback": [
      "UndefVarError: `var_prob` not defined in `Main`\n",
      "Suggestion: check for spelling errors or missing imports.\n",
      "\n",
      "Stacktrace:\n",
      " [1] top-level scope\n",
      "   @ ~/Documents/research/pulses/project/notebooks/src/jl_notebook_cell_df34fa98e69747e1a8f8a730347b8e2f_X34sZmlsZQ==.jl:1"
     ]
    }
   ],
   "source": [
    "J_var = var_obj(var_prob.trajectory, H_drives, error_ops)"
   ]
  }
 ],
 "metadata": {
  "kernelspec": {
   "display_name": "Julia 1.11.5",
   "language": "julia",
   "name": "julia-1.11"
  },
  "language_info": {
   "file_extension": ".jl",
   "mimetype": "application/julia",
   "name": "julia",
   "version": "1.11.5"
  }
 },
 "nbformat": 4,
 "nbformat_minor": 2
}
